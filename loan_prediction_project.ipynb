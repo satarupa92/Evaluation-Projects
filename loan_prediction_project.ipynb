{
 "cells": [
  {
   "cell_type": "markdown",
   "metadata": {},
   "source": [
    "#### Loan Application Status Prediction\n",
    "#### Problem Statement:\n",
    "\n",
    "This dataset includes details of applicants who have applied for loan. The dataset includes details like credit history, loan amount, their income, dependents etc. \n",
    "\n",
    "#### Independent Variables:\n",
    "\n",
    "- Loan_ID\n",
    "\n",
    "- Gender\n",
    "\n",
    "- Married\n",
    "\n",
    "- Dependents\n",
    "\n",
    "- Education\n",
    "\n",
    "- Self_Employed\n",
    "\n",
    "- ApplicantIncome\n",
    "\n",
    "- CoapplicantIncome\n",
    "\n",
    "- Loan_Amount\n",
    "\n",
    "- Loan_Amount_Term\n",
    "\n",
    "- Credit History\n",
    "\n",
    "- Property_Area\n",
    "\n",
    "#### Dependent Variable (Target Variable):\n",
    "\n",
    "- Loan_Status\n",
    "\n",
    "You have to build a model that can predict whether the loan of the applicant will be approved or not on the basis of the details provided in the dataset. \n",
    " "
   ]
  },
  {
   "cell_type": "code",
   "execution_count": 1,
   "metadata": {},
   "outputs": [],
   "source": [
    "# Importing Necessory Libraries\n",
    "import pandas as pd\n",
    "import numpy as np\n",
    "import seaborn as sns\n",
    "import matplotlib.pyplot as plt\n",
    "%matplotlib inline\n",
    "import warnings\n",
    "warnings.filterwarnings(\"ignore\")\n",
    "\n",
    "# Preprocessing\n",
    "from sklearn.preprocessing import LabelEncoder\n",
    "from sklearn.preprocessing import StandardScaler\n",
    "from sklearn.preprocessing import OrdinalEncoder\n",
    "from scipy.stats import zscore\n",
    "from sklearn.preprocessing import PowerTransformer\n",
    "\n",
    "# Models:\n",
    "from sklearn.model_selection import train_test_split,GridSearchCV\n",
    "\n",
    "from sklearn.ensemble import RandomForestClassifier\n",
    "from sklearn.linear_model import LogisticRegression\n",
    "from sklearn.neighbors import KNeighborsClassifier\n",
    "from sklearn.tree import DecisionTreeClassifier\n",
    "from sklearn.ensemble import GradientBoostingClassifier\n",
    "from sklearn.svm import SVC\n",
    "from sklearn.model_selection import cross_val_score\n",
    "\n",
    "\n",
    "#Matrics for evaluation:\n",
    "from sklearn.metrics import accuracy_score,confusion_matrix,classification_report,plot_roc_curve,roc_auc_score\n"
   ]
  },
  {
   "cell_type": "code",
   "execution_count": 137,
   "metadata": {},
   "outputs": [
    {
     "data": {
      "text/html": [
       "<div>\n",
       "<style scoped>\n",
       "    .dataframe tbody tr th:only-of-type {\n",
       "        vertical-align: middle;\n",
       "    }\n",
       "\n",
       "    .dataframe tbody tr th {\n",
       "        vertical-align: top;\n",
       "    }\n",
       "\n",
       "    .dataframe thead th {\n",
       "        text-align: right;\n",
       "    }\n",
       "</style>\n",
       "<table border=\"1\" class=\"dataframe\">\n",
       "  <thead>\n",
       "    <tr style=\"text-align: right;\">\n",
       "      <th></th>\n",
       "      <th>Loan_ID</th>\n",
       "      <th>Gender</th>\n",
       "      <th>Married</th>\n",
       "      <th>Dependents</th>\n",
       "      <th>Education</th>\n",
       "      <th>Self_Employed</th>\n",
       "      <th>ApplicantIncome</th>\n",
       "      <th>CoapplicantIncome</th>\n",
       "      <th>LoanAmount</th>\n",
       "      <th>Loan_Amount_Term</th>\n",
       "      <th>Credit_History</th>\n",
       "      <th>Property_Area</th>\n",
       "      <th>Loan_Status</th>\n",
       "    </tr>\n",
       "  </thead>\n",
       "  <tbody>\n",
       "    <tr>\n",
       "      <th>0</th>\n",
       "      <td>LP001002</td>\n",
       "      <td>Male</td>\n",
       "      <td>No</td>\n",
       "      <td>0</td>\n",
       "      <td>Graduate</td>\n",
       "      <td>No</td>\n",
       "      <td>5849</td>\n",
       "      <td>0.0</td>\n",
       "      <td>NaN</td>\n",
       "      <td>360.0</td>\n",
       "      <td>1.0</td>\n",
       "      <td>Urban</td>\n",
       "      <td>Y</td>\n",
       "    </tr>\n",
       "    <tr>\n",
       "      <th>1</th>\n",
       "      <td>LP001003</td>\n",
       "      <td>Male</td>\n",
       "      <td>Yes</td>\n",
       "      <td>1</td>\n",
       "      <td>Graduate</td>\n",
       "      <td>No</td>\n",
       "      <td>4583</td>\n",
       "      <td>1508.0</td>\n",
       "      <td>128.0</td>\n",
       "      <td>360.0</td>\n",
       "      <td>1.0</td>\n",
       "      <td>Rural</td>\n",
       "      <td>N</td>\n",
       "    </tr>\n",
       "    <tr>\n",
       "      <th>2</th>\n",
       "      <td>LP001005</td>\n",
       "      <td>Male</td>\n",
       "      <td>Yes</td>\n",
       "      <td>0</td>\n",
       "      <td>Graduate</td>\n",
       "      <td>Yes</td>\n",
       "      <td>3000</td>\n",
       "      <td>0.0</td>\n",
       "      <td>66.0</td>\n",
       "      <td>360.0</td>\n",
       "      <td>1.0</td>\n",
       "      <td>Urban</td>\n",
       "      <td>Y</td>\n",
       "    </tr>\n",
       "    <tr>\n",
       "      <th>3</th>\n",
       "      <td>LP001006</td>\n",
       "      <td>Male</td>\n",
       "      <td>Yes</td>\n",
       "      <td>0</td>\n",
       "      <td>Not Graduate</td>\n",
       "      <td>No</td>\n",
       "      <td>2583</td>\n",
       "      <td>2358.0</td>\n",
       "      <td>120.0</td>\n",
       "      <td>360.0</td>\n",
       "      <td>1.0</td>\n",
       "      <td>Urban</td>\n",
       "      <td>Y</td>\n",
       "    </tr>\n",
       "    <tr>\n",
       "      <th>4</th>\n",
       "      <td>LP001008</td>\n",
       "      <td>Male</td>\n",
       "      <td>No</td>\n",
       "      <td>0</td>\n",
       "      <td>Graduate</td>\n",
       "      <td>No</td>\n",
       "      <td>6000</td>\n",
       "      <td>0.0</td>\n",
       "      <td>141.0</td>\n",
       "      <td>360.0</td>\n",
       "      <td>1.0</td>\n",
       "      <td>Urban</td>\n",
       "      <td>Y</td>\n",
       "    </tr>\n",
       "    <tr>\n",
       "      <th>5</th>\n",
       "      <td>LP001011</td>\n",
       "      <td>Male</td>\n",
       "      <td>Yes</td>\n",
       "      <td>2</td>\n",
       "      <td>Graduate</td>\n",
       "      <td>Yes</td>\n",
       "      <td>5417</td>\n",
       "      <td>4196.0</td>\n",
       "      <td>267.0</td>\n",
       "      <td>360.0</td>\n",
       "      <td>1.0</td>\n",
       "      <td>Urban</td>\n",
       "      <td>Y</td>\n",
       "    </tr>\n",
       "    <tr>\n",
       "      <th>6</th>\n",
       "      <td>LP001013</td>\n",
       "      <td>Male</td>\n",
       "      <td>Yes</td>\n",
       "      <td>0</td>\n",
       "      <td>Not Graduate</td>\n",
       "      <td>No</td>\n",
       "      <td>2333</td>\n",
       "      <td>1516.0</td>\n",
       "      <td>95.0</td>\n",
       "      <td>360.0</td>\n",
       "      <td>1.0</td>\n",
       "      <td>Urban</td>\n",
       "      <td>Y</td>\n",
       "    </tr>\n",
       "    <tr>\n",
       "      <th>7</th>\n",
       "      <td>LP001014</td>\n",
       "      <td>Male</td>\n",
       "      <td>Yes</td>\n",
       "      <td>3+</td>\n",
       "      <td>Graduate</td>\n",
       "      <td>No</td>\n",
       "      <td>3036</td>\n",
       "      <td>2504.0</td>\n",
       "      <td>158.0</td>\n",
       "      <td>360.0</td>\n",
       "      <td>0.0</td>\n",
       "      <td>Semiurban</td>\n",
       "      <td>N</td>\n",
       "    </tr>\n",
       "    <tr>\n",
       "      <th>8</th>\n",
       "      <td>LP001018</td>\n",
       "      <td>Male</td>\n",
       "      <td>Yes</td>\n",
       "      <td>2</td>\n",
       "      <td>Graduate</td>\n",
       "      <td>No</td>\n",
       "      <td>4006</td>\n",
       "      <td>1526.0</td>\n",
       "      <td>168.0</td>\n",
       "      <td>360.0</td>\n",
       "      <td>1.0</td>\n",
       "      <td>Urban</td>\n",
       "      <td>Y</td>\n",
       "    </tr>\n",
       "    <tr>\n",
       "      <th>9</th>\n",
       "      <td>LP001020</td>\n",
       "      <td>Male</td>\n",
       "      <td>Yes</td>\n",
       "      <td>1</td>\n",
       "      <td>Graduate</td>\n",
       "      <td>No</td>\n",
       "      <td>12841</td>\n",
       "      <td>10968.0</td>\n",
       "      <td>349.0</td>\n",
       "      <td>360.0</td>\n",
       "      <td>1.0</td>\n",
       "      <td>Semiurban</td>\n",
       "      <td>N</td>\n",
       "    </tr>\n",
       "  </tbody>\n",
       "</table>\n",
       "</div>"
      ],
      "text/plain": [
       "    Loan_ID Gender Married Dependents     Education Self_Employed  \\\n",
       "0  LP001002   Male      No          0      Graduate            No   \n",
       "1  LP001003   Male     Yes          1      Graduate            No   \n",
       "2  LP001005   Male     Yes          0      Graduate           Yes   \n",
       "3  LP001006   Male     Yes          0  Not Graduate            No   \n",
       "4  LP001008   Male      No          0      Graduate            No   \n",
       "5  LP001011   Male     Yes          2      Graduate           Yes   \n",
       "6  LP001013   Male     Yes          0  Not Graduate            No   \n",
       "7  LP001014   Male     Yes         3+      Graduate            No   \n",
       "8  LP001018   Male     Yes          2      Graduate            No   \n",
       "9  LP001020   Male     Yes          1      Graduate            No   \n",
       "\n",
       "   ApplicantIncome  CoapplicantIncome  LoanAmount  Loan_Amount_Term  \\\n",
       "0             5849                0.0         NaN             360.0   \n",
       "1             4583             1508.0       128.0             360.0   \n",
       "2             3000                0.0        66.0             360.0   \n",
       "3             2583             2358.0       120.0             360.0   \n",
       "4             6000                0.0       141.0             360.0   \n",
       "5             5417             4196.0       267.0             360.0   \n",
       "6             2333             1516.0        95.0             360.0   \n",
       "7             3036             2504.0       158.0             360.0   \n",
       "8             4006             1526.0       168.0             360.0   \n",
       "9            12841            10968.0       349.0             360.0   \n",
       "\n",
       "   Credit_History Property_Area Loan_Status  \n",
       "0             1.0         Urban           Y  \n",
       "1             1.0         Rural           N  \n",
       "2             1.0         Urban           Y  \n",
       "3             1.0         Urban           Y  \n",
       "4             1.0         Urban           Y  \n",
       "5             1.0         Urban           Y  \n",
       "6             1.0         Urban           Y  \n",
       "7             0.0     Semiurban           N  \n",
       "8             1.0         Urban           Y  \n",
       "9             1.0     Semiurban           N  "
      ]
     },
     "execution_count": 137,
     "metadata": {},
     "output_type": "execute_result"
    }
   ],
   "source": [
    "# READING THE DATASET\n",
    "df=pd.read_csv(\"loan_prediction.csv\")\n",
    "df.head(10)"
   ]
  },
  {
   "cell_type": "markdown",
   "metadata": {},
   "source": [
    "- As we can see, the provided dataset is containing several details of applicants who have applied for loan. Depending upon those above mentioned features likeoan_ID, Gender, Married, Dependents, Education, Self_Employed, ApplicantIncome, CoapplicantIncome, Loan_Amount, Loan_Amount_Term, Credit History,Property_Area; we need to predict the loan_status, either the loan can be granted or not. As we need to classify the loan status it is a Binary Classification type of problem."
   ]
  },
  {
   "cell_type": "code",
   "execution_count": 138,
   "metadata": {},
   "outputs": [
    {
     "data": {
      "text/plain": [
       "(614, 13)"
      ]
     },
     "execution_count": 138,
     "metadata": {},
     "output_type": "execute_result"
    }
   ],
   "source": [
    "df.shape"
   ]
  },
  {
   "cell_type": "markdown",
   "metadata": {},
   "source": [
    "- The dataset contains 614 rows and 13 columns."
   ]
  },
  {
   "cell_type": "code",
   "execution_count": 139,
   "metadata": {},
   "outputs": [
    {
     "data": {
      "text/plain": [
       "Index(['Loan_ID', 'Gender', 'Married', 'Dependents', 'Education',\n",
       "       'Self_Employed', 'ApplicantIncome', 'CoapplicantIncome', 'LoanAmount',\n",
       "       'Loan_Amount_Term', 'Credit_History', 'Property_Area', 'Loan_Status'],\n",
       "      dtype='object')"
      ]
     },
     "execution_count": 139,
     "metadata": {},
     "output_type": "execute_result"
    }
   ],
   "source": [
    "df.columns"
   ]
  },
  {
   "cell_type": "markdown",
   "metadata": {},
   "source": [
    "The dataset contains, \n",
    "- 'Loan_ID'- unique id of an applicant(we will drop this feature as it a unnecessory data),\n",
    "- 'Gender'- Sex of an Applicant, \n",
    "- 'Married'- marital status of an applicant, \n",
    "- 'Dependents'- the number of dependents of an applicant, \n",
    "- 'Education'- How much educated an applicant is,\n",
    "- 'Self_Employed'- an applicant is self-employed or not,\n",
    "- 'ApplicantIncome'- income of an applicant, \n",
    "- 'CoapplicantIncome'- income of co-applicant, \n",
    "- 'LoanAmount'- the loan amount ,\n",
    "- 'Loan_Amount_Term'- fixed duration for repayment,\n",
    "- 'Credit_History'-  record of an applicants ability to repay debts,\n",
    "- 'Property_Area'- Where the applicant lives in.\n",
    "these above mentioned features are the independent variable depending upon which we need to predict the Loan status."
   ]
  },
  {
   "cell_type": "code",
   "execution_count": 140,
   "metadata": {},
   "outputs": [
    {
     "data": {
      "text/plain": [
       "Loan_ID               0\n",
       "Gender               13\n",
       "Married               3\n",
       "Dependents           15\n",
       "Education             0\n",
       "Self_Employed        32\n",
       "ApplicantIncome       0\n",
       "CoapplicantIncome     0\n",
       "LoanAmount           22\n",
       "Loan_Amount_Term     14\n",
       "Credit_History       50\n",
       "Property_Area         0\n",
       "Loan_Status           0\n",
       "dtype: int64"
      ]
     },
     "execution_count": 140,
     "metadata": {},
     "output_type": "execute_result"
    }
   ],
   "source": [
    "df.isna().sum()"
   ]
  },
  {
   "cell_type": "markdown",
   "metadata": {},
   "source": [
    "- There is missing values in several features that we need to take care of."
   ]
  },
  {
   "cell_type": "code",
   "execution_count": 141,
   "metadata": {},
   "outputs": [
    {
     "name": "stdout",
     "output_type": "stream",
     "text": [
      "<class 'pandas.core.frame.DataFrame'>\n",
      "RangeIndex: 614 entries, 0 to 613\n",
      "Data columns (total 13 columns):\n",
      " #   Column             Non-Null Count  Dtype  \n",
      "---  ------             --------------  -----  \n",
      " 0   Loan_ID            614 non-null    object \n",
      " 1   Gender             601 non-null    object \n",
      " 2   Married            611 non-null    object \n",
      " 3   Dependents         599 non-null    object \n",
      " 4   Education          614 non-null    object \n",
      " 5   Self_Employed      582 non-null    object \n",
      " 6   ApplicantIncome    614 non-null    int64  \n",
      " 7   CoapplicantIncome  614 non-null    float64\n",
      " 8   LoanAmount         592 non-null    float64\n",
      " 9   Loan_Amount_Term   600 non-null    float64\n",
      " 10  Credit_History     564 non-null    float64\n",
      " 11  Property_Area      614 non-null    object \n",
      " 12  Loan_Status        614 non-null    object \n",
      "dtypes: float64(4), int64(1), object(8)\n",
      "memory usage: 62.5+ KB\n"
     ]
    }
   ],
   "source": [
    "df.info()"
   ]
  },
  {
   "cell_type": "markdown",
   "metadata": {},
   "source": [
    "- The dataset is mixture of categorical, nominal and numerical values. And null values are also present in this dataset."
   ]
  },
  {
   "cell_type": "code",
   "execution_count": 142,
   "metadata": {},
   "outputs": [
    {
     "data": {
      "text/plain": [
       "Loan_ID              614\n",
       "Gender                 2\n",
       "Married                2\n",
       "Dependents             4\n",
       "Education              2\n",
       "Self_Employed          2\n",
       "ApplicantIncome      505\n",
       "CoapplicantIncome    287\n",
       "LoanAmount           203\n",
       "Loan_Amount_Term      10\n",
       "Credit_History         2\n",
       "Property_Area          3\n",
       "Loan_Status            2\n",
       "dtype: int64"
      ]
     },
     "execution_count": 142,
     "metadata": {},
     "output_type": "execute_result"
    }
   ],
   "source": [
    "df.nunique()"
   ]
  },
  {
   "cell_type": "markdown",
   "metadata": {},
   "source": [
    "- Different columns are containing different counts of categories like, Loan_ID column is having unique ids of applicants that we need to drop before model creation . The target variable, Loan_Status is having 2 categories , so it  binary class containing column and we will do binary classification."
   ]
  },
  {
   "cell_type": "code",
   "execution_count": 143,
   "metadata": {},
   "outputs": [
    {
     "data": {
      "text/plain": [
       "Loan_ID               object\n",
       "Gender                object\n",
       "Married               object\n",
       "Dependents            object\n",
       "Education             object\n",
       "Self_Employed         object\n",
       "ApplicantIncome        int64\n",
       "CoapplicantIncome    float64\n",
       "LoanAmount           float64\n",
       "Loan_Amount_Term     float64\n",
       "Credit_History       float64\n",
       "Property_Area         object\n",
       "Loan_Status           object\n",
       "dtype: object"
      ]
     },
     "execution_count": 143,
     "metadata": {},
     "output_type": "execute_result"
    }
   ],
   "source": [
    "df.dtypes"
   ]
  },
  {
   "cell_type": "markdown",
   "metadata": {},
   "source": [
    "- The data is good blend of objects, integer and floats."
   ]
  },
  {
   "cell_type": "code",
   "execution_count": 144,
   "metadata": {},
   "outputs": [
    {
     "data": {
      "text/html": [
       "<div>\n",
       "<style scoped>\n",
       "    .dataframe tbody tr th:only-of-type {\n",
       "        vertical-align: middle;\n",
       "    }\n",
       "\n",
       "    .dataframe tbody tr th {\n",
       "        vertical-align: top;\n",
       "    }\n",
       "\n",
       "    .dataframe thead th {\n",
       "        text-align: right;\n",
       "    }\n",
       "</style>\n",
       "<table border=\"1\" class=\"dataframe\">\n",
       "  <thead>\n",
       "    <tr style=\"text-align: right;\">\n",
       "      <th></th>\n",
       "      <th>ApplicantIncome</th>\n",
       "      <th>CoapplicantIncome</th>\n",
       "      <th>LoanAmount</th>\n",
       "      <th>Loan_Amount_Term</th>\n",
       "      <th>Credit_History</th>\n",
       "    </tr>\n",
       "  </thead>\n",
       "  <tbody>\n",
       "    <tr>\n",
       "      <th>count</th>\n",
       "      <td>614.000000</td>\n",
       "      <td>614.000000</td>\n",
       "      <td>592.000000</td>\n",
       "      <td>600.00000</td>\n",
       "      <td>564.000000</td>\n",
       "    </tr>\n",
       "    <tr>\n",
       "      <th>mean</th>\n",
       "      <td>5403.459283</td>\n",
       "      <td>1621.245798</td>\n",
       "      <td>146.412162</td>\n",
       "      <td>342.00000</td>\n",
       "      <td>0.842199</td>\n",
       "    </tr>\n",
       "    <tr>\n",
       "      <th>std</th>\n",
       "      <td>6109.041673</td>\n",
       "      <td>2926.248369</td>\n",
       "      <td>85.587325</td>\n",
       "      <td>65.12041</td>\n",
       "      <td>0.364878</td>\n",
       "    </tr>\n",
       "    <tr>\n",
       "      <th>min</th>\n",
       "      <td>150.000000</td>\n",
       "      <td>0.000000</td>\n",
       "      <td>9.000000</td>\n",
       "      <td>12.00000</td>\n",
       "      <td>0.000000</td>\n",
       "    </tr>\n",
       "    <tr>\n",
       "      <th>25%</th>\n",
       "      <td>2877.500000</td>\n",
       "      <td>0.000000</td>\n",
       "      <td>100.000000</td>\n",
       "      <td>360.00000</td>\n",
       "      <td>1.000000</td>\n",
       "    </tr>\n",
       "    <tr>\n",
       "      <th>50%</th>\n",
       "      <td>3812.500000</td>\n",
       "      <td>1188.500000</td>\n",
       "      <td>128.000000</td>\n",
       "      <td>360.00000</td>\n",
       "      <td>1.000000</td>\n",
       "    </tr>\n",
       "    <tr>\n",
       "      <th>75%</th>\n",
       "      <td>5795.000000</td>\n",
       "      <td>2297.250000</td>\n",
       "      <td>168.000000</td>\n",
       "      <td>360.00000</td>\n",
       "      <td>1.000000</td>\n",
       "    </tr>\n",
       "    <tr>\n",
       "      <th>max</th>\n",
       "      <td>81000.000000</td>\n",
       "      <td>41667.000000</td>\n",
       "      <td>700.000000</td>\n",
       "      <td>480.00000</td>\n",
       "      <td>1.000000</td>\n",
       "    </tr>\n",
       "  </tbody>\n",
       "</table>\n",
       "</div>"
      ],
      "text/plain": [
       "       ApplicantIncome  CoapplicantIncome  LoanAmount  Loan_Amount_Term  \\\n",
       "count       614.000000         614.000000  592.000000         600.00000   \n",
       "mean       5403.459283        1621.245798  146.412162         342.00000   \n",
       "std        6109.041673        2926.248369   85.587325          65.12041   \n",
       "min         150.000000           0.000000    9.000000          12.00000   \n",
       "25%        2877.500000           0.000000  100.000000         360.00000   \n",
       "50%        3812.500000        1188.500000  128.000000         360.00000   \n",
       "75%        5795.000000        2297.250000  168.000000         360.00000   \n",
       "max       81000.000000       41667.000000  700.000000         480.00000   \n",
       "\n",
       "       Credit_History  \n",
       "count      564.000000  \n",
       "mean         0.842199  \n",
       "std          0.364878  \n",
       "min          0.000000  \n",
       "25%          1.000000  \n",
       "50%          1.000000  \n",
       "75%          1.000000  \n",
       "max          1.000000  "
      ]
     },
     "execution_count": 144,
     "metadata": {},
     "output_type": "execute_result"
    }
   ],
   "source": [
    "df.describe()"
   ]
  },
  {
   "cell_type": "markdown",
   "metadata": {},
   "source": [
    " The statistics of the dataset is showing,\n",
    "- There is missing values in LoanAmount,Loan_Amount_Term,Credit_History columns as the count should be 614.\n",
    "- The standard deviation of ApplicantIncome is greater than mean value, it means there is skewness in the data.\n",
    "- The gap between quartile3 and maximum applicant income is big, so there must be presence of skewness in the data.\n",
    "- The standard deviation of CoapplicantIncome is greater than mean value, it means there is skewness in the data.\n",
    "- The minimum value of CoapplicantIncome is showing 0, maybe some skewness is there.\n",
    "- The gap between quartile-3 and LoanAmount is big, might be there is some skewness present.\n",
    "\n",
    "\n",
    "#### Data Analysis:\n",
    "\n",
    "We will do Univariate Analysis to understand the distribution of continuous features and count of the categorical features. Then we will do Bivariate Analysis to understand relation between feature vs target and feature vs feature. After that we will do multivariate Analysis to check multicolinearity and correlation.\n",
    "\n",
    "Let's do that:\n",
    "\n",
    "#### Univariate Analysis:\n",
    "before analysis we will take all the continuous and numerical data into single variable."
   ]
  },
  {
   "cell_type": "code",
   "execution_count": 145,
   "metadata": {},
   "outputs": [],
   "source": [
    "con_features=df[['ApplicantIncome','CoapplicantIncome','LoanAmount','Loan_Amount_Term']]"
   ]
  },
  {
   "cell_type": "markdown",
   "metadata": {},
   "source": [
    "#### Visualization:"
   ]
  },
  {
   "cell_type": "code",
   "execution_count": 146,
   "metadata": {},
   "outputs": [
    {
     "data": {
      "image/png": "[encoded data removed]",
      "text/plain": [
       "<Figure size 1152x720 with 4 Axes>"
      ]
     },
     "metadata": {},
     "output_type": "display_data"
    }
   ],
   "source": [
    "plt.figure(figsize=(16,10),facecolor='white')\n",
    "plotnumber=1\n",
    "for column in con_features:\n",
    "    if plotnumber<=4:\n",
    "        ax=plt.subplot(2,2,plotnumber)\n",
    "        sns.distplot(con_features[column],kde=True)\n",
    "        plt.xlabel(column,fontsize=20)\n",
    "    plotnumber+=1\n",
    "plt.show()"
   ]
  },
  {
   "cell_type": "markdown",
   "metadata": {},
   "source": [
    "- As we can see, all the continuous features are more or less skewed. Hence we need to take care of those before model creation.\n",
    "\n",
    "\n",
    "Now lets analyze the Target variable."
   ]
  },
  {
   "cell_type": "code",
   "execution_count": 12,
   "metadata": {},
   "outputs": [
    {
     "data": {
      "text/plain": [
       "Y    422\n",
       "N    192\n",
       "Name: Loan_Status, dtype: int64"
      ]
     },
     "execution_count": 12,
     "metadata": {},
     "output_type": "execute_result"
    },
    {
     "data": {
      "image/png": "[encoded data removed]",
      "text/plain": [
       "<Figure size 1080x360 with 2 Axes>"
      ]
     },
     "metadata": {
      "needs_background": "light"
     },
     "output_type": "display_data"
    }
   ],
   "source": [
    "plt.figure(figsize=(15,5))\n",
    "plt.subplot(1,2,1)\n",
    "df['Loan_Status'].value_counts().plot.pie(autopct='%1.1f%%')\n",
    "plt.subplot(1,2,2)\n",
    "sns.countplot(df['Loan_Status'])\n",
    "df['Loan_Status'].value_counts()"
   ]
  },
  {
   "cell_type": "markdown",
   "metadata": {},
   "source": [
    "- As we can see, the target variable 'Loan_Status' is having 2 categories on basis of the loan is granted or not. As the count of Loan granted(Y) 422 is greater than Loan not granted(N) 192 and the difference is big, the target variable is unbalanced. "
   ]
  },
  {
   "cell_type": "code",
   "execution_count": 13,
   "metadata": {},
   "outputs": [
    {
     "data": {
      "text/plain": [
       "Male      489\n",
       "Female    112\n",
       "Name: Gender, dtype: int64"
      ]
     },
     "execution_count": 13,
     "metadata": {},
     "output_type": "execute_result"
    },
    {
     "data": {
      "image/png": "[encoded data removed]",
      "text/plain": [
       "<Figure size 1080x360 with 2 Axes>"
      ]
     },
     "metadata": {
      "needs_background": "light"
     },
     "output_type": "display_data"
    }
   ],
   "source": [
    "plt.figure(figsize=(15,5))\n",
    "plt.subplot(1,2,1)\n",
    "df['Gender'].value_counts().plot.pie(autopct='%1.1f%%')\n",
    "plt.subplot(1,2,2)\n",
    "sns.countplot(df['Gender'])\n",
    "df['Gender'].value_counts()"
   ]
  },
  {
   "cell_type": "markdown",
   "metadata": {},
   "source": [
    "- More male applicants (489) than female applicants (112)."
   ]
  },
  {
   "cell_type": "code",
   "execution_count": 14,
   "metadata": {},
   "outputs": [
    {
     "data": {
      "text/plain": [
       "Yes    398\n",
       "No     213\n",
       "Name: Married, dtype: int64"
      ]
     },
     "execution_count": 14,
     "metadata": {},
     "output_type": "execute_result"
    },
    {
     "data": {
      "image/png": "[encoded data removed]",
      "text/plain": [
       "<Figure size 1080x360 with 2 Axes>"
      ]
     },
     "metadata": {
      "needs_background": "light"
     },
     "output_type": "display_data"
    }
   ],
   "source": [
    "plt.figure(figsize=(15,5))\n",
    "plt.subplot(1,2,1)\n",
    "df['Married'].value_counts().plot.pie(autopct='%1.1f%%')\n",
    "plt.subplot(1,2,2)\n",
    "sns.countplot(df['Married'])\n",
    "df['Married'].value_counts()"
   ]
  },
  {
   "cell_type": "markdown",
   "metadata": {},
   "source": [
    "- Marriad applicants (398) are more in counts than Unmarried applicants (213)."
   ]
  },
  {
   "cell_type": "code",
   "execution_count": 15,
   "metadata": {},
   "outputs": [
    {
     "data": {
      "text/plain": [
       "0     345\n",
       "1     102\n",
       "2     101\n",
       "3+     51\n",
       "Name: Dependents, dtype: int64"
      ]
     },
     "execution_count": 15,
     "metadata": {},
     "output_type": "execute_result"
    },
    {
     "data": {
      "image/png": "[encoded data removed]",
      "text/plain": [
       "<Figure size 1080x360 with 2 Axes>"
      ]
     },
     "metadata": {
      "needs_background": "light"
     },
     "output_type": "display_data"
    }
   ],
   "source": [
    "plt.figure(figsize=(15,5))\n",
    "plt.subplot(1,2,1)\n",
    "df['Dependents'].value_counts().plot.pie(autopct='%1.1f%%')\n",
    "plt.subplot(1,2,2)\n",
    "sns.countplot(df['Dependents'])\n",
    "df['Dependents'].value_counts()"
   ]
  },
  {
   "cell_type": "markdown",
   "metadata": {},
   "source": [
    "- The column is containing the number of dependents of an applicant. There are 4 categories in the feature, out of whic 0 is containing highest count 345(57.6%) and 3+ is containg least count of data 51(8.5%)."
   ]
  },
  {
   "cell_type": "code",
   "execution_count": 16,
   "metadata": {},
   "outputs": [
    {
     "data": {
      "text/plain": [
       "No     500\n",
       "Yes     82\n",
       "Name: Self_Employed, dtype: int64"
      ]
     },
     "execution_count": 16,
     "metadata": {},
     "output_type": "execute_result"
    },
    {
     "data": {
      "image/png": "[encoded data removed]",
      "text/plain": [
       "<Figure size 1080x360 with 2 Axes>"
      ]
     },
     "metadata": {
      "needs_background": "light"
     },
     "output_type": "display_data"
    }
   ],
   "source": [
    "plt.figure(figsize=(15,5))\n",
    "plt.subplot(1,2,1)\n",
    "df['Self_Employed'].value_counts().plot.pie(autopct='%1.1f%%')\n",
    "plt.subplot(1,2,2)\n",
    "sns.countplot(df['Self_Employed'])\n",
    "df['Self_Employed'].value_counts()"
   ]
  },
  {
   "cell_type": "markdown",
   "metadata": {},
   "source": [
    "- The Number of self-employed applicants is lower 500 (85.9%) than applicants who are not self-employed 82(14.1%)."
   ]
  },
  {
   "cell_type": "code",
   "execution_count": 17,
   "metadata": {},
   "outputs": [
    {
     "data": {
      "text/plain": [
       "Semiurban    233\n",
       "Urban        202\n",
       "Rural        179\n",
       "Name: Property_Area, dtype: int64"
      ]
     },
     "execution_count": 17,
     "metadata": {},
     "output_type": "execute_result"
    },
    {
     "data": {
      "image/png": "[encoded data removed]",
      "text/plain": [
       "<Figure size 1080x360 with 2 Axes>"
      ]
     },
     "metadata": {
      "needs_background": "light"
     },
     "output_type": "display_data"
    }
   ],
   "source": [
    "plt.figure(figsize=(15,5))\n",
    "plt.subplot(1,2,1)\n",
    "df['Property_Area'].value_counts().plot.pie(autopct='%1.1f%%')\n",
    "plt.subplot(1,2,2)\n",
    "sns.countplot(df['Property_Area'])\n",
    "df['Property_Area'].value_counts()"
   ]
  },
  {
   "cell_type": "markdown",
   "metadata": {},
   "source": [
    "- Applicants are having 3 types of properties,- Urban, Rural and Semiurban. Out of which Semiurban properties are highest in counts 233(37.9%)."
   ]
  },
  {
   "cell_type": "code",
   "execution_count": 18,
   "metadata": {},
   "outputs": [
    {
     "data": {
      "text/plain": [
       "1.0    475\n",
       "0.0     89\n",
       "Name: Credit_History, dtype: int64"
      ]
     },
     "execution_count": 18,
     "metadata": {},
     "output_type": "execute_result"
    },
    {
     "data": {
      "image/png": "[encoded data removed]",
      "text/plain": [
       "<Figure size 1080x360 with 2 Axes>"
      ]
     },
     "metadata": {
      "needs_background": "light"
     },
     "output_type": "display_data"
    }
   ],
   "source": [
    "plt.figure(figsize=(15,5))\n",
    "plt.subplot(1,2,1)\n",
    "df['Credit_History'].value_counts().plot.pie(autopct='%1.1f%%')\n",
    "plt.subplot(1,2,2)\n",
    "sns.countplot(df['Credit_History'])\n",
    "df['Credit_History'].value_counts()"
   ]
  },
  {
   "cell_type": "markdown",
   "metadata": {},
   "source": [
    "- Credit_History feature is having 2 categories. Out of which category 1 is having more counts than 475 than category 0. As loan givers or banks check our credit history before granting any loan, people who have good credit history get the loan the faster than people who have bad credit history."
   ]
  },
  {
   "cell_type": "code",
   "execution_count": 54,
   "metadata": {},
   "outputs": [
    {
     "data": {
      "text/plain": [
       "360.0    512\n",
       "180.0     44\n",
       "480.0     15\n",
       "300.0     13\n",
       "84.0       4\n",
       "240.0      4\n",
       "120.0      3\n",
       "36.0       2\n",
       "60.0       2\n",
       "12.0       1\n",
       "Name: Loan_Amount_Term, dtype: int64"
      ]
     },
     "execution_count": 54,
     "metadata": {},
     "output_type": "execute_result"
    },
    {
     "data": {
      "image/png": "[encoded data removed]",
      "text/plain": [
       "<Figure size 1080x360 with 1 Axes>"
      ]
     },
     "metadata": {
      "needs_background": "light"
     },
     "output_type": "display_data"
    }
   ],
   "source": [
    "plt.figure(figsize=(15,5))\n",
    "plt.subplot(1,2,1)\n",
    "sns.countplot(df['Loan_Amount_Term'])\n",
    "df['Loan_Amount_Term'].value_counts()"
   ]
  },
  {
   "cell_type": "markdown",
   "metadata": {},
   "source": [
    "- Loan_Amount_Term feature is having 10 different categories. Out of which 360.0 is having the highest count 512.\n",
    "May be this column is containing months as loan amount term. Like 12 months,36 months and so on.\n",
    "\n",
    "\n",
    "#### Outlier Detection:\n",
    "We are using Boxplot to check outliers."
   ]
  },
  {
   "cell_type": "code",
   "execution_count": 19,
   "metadata": {},
   "outputs": [
    {
     "data": {
      "image/png": "[encoded data removed]",
      "text/plain": [
       "<Figure size 1152x720 with 4 Axes>"
      ]
     },
     "metadata": {},
     "output_type": "display_data"
    }
   ],
   "source": [
    "plt.figure(figsize=(16,10),facecolor='white')\n",
    "plotnumber=1\n",
    "for column in con_features:\n",
    "    if plotnumber<=4:\n",
    "        ax=plt.subplot(2,2,plotnumber)\n",
    "        sns.boxplot(con_features[column])\n",
    "        plt.xlabel(column,fontsize=15)\n",
    "    plotnumber+=1\n",
    "plt.show()  "
   ]
  },
  {
   "cell_type": "markdown",
   "metadata": {},
   "source": [
    "- After checking the box plot we can say that there are so many outliers in the continuous variables of the dataset that we need to get rid of. "
   ]
  },
  {
   "cell_type": "code",
   "execution_count": 147,
   "metadata": {},
   "outputs": [
    {
     "data": {
      "text/plain": [
       "ApplicantIncome      6.539513\n",
       "CoapplicantIncome    7.491531\n",
       "LoanAmount           2.677552\n",
       "Loan_Amount_Term    -2.362414\n",
       "Credit_History      -1.882361\n",
       "dtype: float64"
      ]
     },
     "execution_count": 147,
     "metadata": {},
     "output_type": "execute_result"
    }
   ],
   "source": [
    "df.skew()"
   ]
  },
  {
   "cell_type": "markdown",
   "metadata": {},
   "source": [
    "- As we can see, all the continuous variables are having skewness that we need to take care of before model creation.\n",
    "\n",
    "Now Let's convert the target variable into numbers and then separate the target and the features to check the relation between target and features.\n",
    "\n",
    "For encoding the target we are using Label Encoder."
   ]
  },
  {
   "cell_type": "code",
   "execution_count": 148,
   "metadata": {},
   "outputs": [],
   "source": [
    "l = LabelEncoder()\n",
    "l_s = ['Loan_Status']\n",
    "for i in l_s:\n",
    "    df[i] = l.fit_transform(df[i])"
   ]
  },
  {
   "cell_type": "code",
   "execution_count": 149,
   "metadata": {},
   "outputs": [
    {
     "data": {
      "text/html": [
       "<div>\n",
       "<style scoped>\n",
       "    .dataframe tbody tr th:only-of-type {\n",
       "        vertical-align: middle;\n",
       "    }\n",
       "\n",
       "    .dataframe tbody tr th {\n",
       "        vertical-align: top;\n",
       "    }\n",
       "\n",
       "    .dataframe thead th {\n",
       "        text-align: right;\n",
       "    }\n",
       "</style>\n",
       "<table border=\"1\" class=\"dataframe\">\n",
       "  <thead>\n",
       "    <tr style=\"text-align: right;\">\n",
       "      <th></th>\n",
       "      <th>Loan_ID</th>\n",
       "      <th>Gender</th>\n",
       "      <th>Married</th>\n",
       "      <th>Dependents</th>\n",
       "      <th>Education</th>\n",
       "      <th>Self_Employed</th>\n",
       "      <th>ApplicantIncome</th>\n",
       "      <th>CoapplicantIncome</th>\n",
       "      <th>LoanAmount</th>\n",
       "      <th>Loan_Amount_Term</th>\n",
       "      <th>Credit_History</th>\n",
       "      <th>Property_Area</th>\n",
       "      <th>Loan_Status</th>\n",
       "    </tr>\n",
       "  </thead>\n",
       "  <tbody>\n",
       "    <tr>\n",
       "      <th>0</th>\n",
       "      <td>LP001002</td>\n",
       "      <td>Male</td>\n",
       "      <td>No</td>\n",
       "      <td>0</td>\n",
       "      <td>Graduate</td>\n",
       "      <td>No</td>\n",
       "      <td>5849</td>\n",
       "      <td>0.0</td>\n",
       "      <td>NaN</td>\n",
       "      <td>360.0</td>\n",
       "      <td>1.0</td>\n",
       "      <td>Urban</td>\n",
       "      <td>1</td>\n",
       "    </tr>\n",
       "    <tr>\n",
       "      <th>1</th>\n",
       "      <td>LP001003</td>\n",
       "      <td>Male</td>\n",
       "      <td>Yes</td>\n",
       "      <td>1</td>\n",
       "      <td>Graduate</td>\n",
       "      <td>No</td>\n",
       "      <td>4583</td>\n",
       "      <td>1508.0</td>\n",
       "      <td>128.0</td>\n",
       "      <td>360.0</td>\n",
       "      <td>1.0</td>\n",
       "      <td>Rural</td>\n",
       "      <td>0</td>\n",
       "    </tr>\n",
       "    <tr>\n",
       "      <th>2</th>\n",
       "      <td>LP001005</td>\n",
       "      <td>Male</td>\n",
       "      <td>Yes</td>\n",
       "      <td>0</td>\n",
       "      <td>Graduate</td>\n",
       "      <td>Yes</td>\n",
       "      <td>3000</td>\n",
       "      <td>0.0</td>\n",
       "      <td>66.0</td>\n",
       "      <td>360.0</td>\n",
       "      <td>1.0</td>\n",
       "      <td>Urban</td>\n",
       "      <td>1</td>\n",
       "    </tr>\n",
       "    <tr>\n",
       "      <th>3</th>\n",
       "      <td>LP001006</td>\n",
       "      <td>Male</td>\n",
       "      <td>Yes</td>\n",
       "      <td>0</td>\n",
       "      <td>Not Graduate</td>\n",
       "      <td>No</td>\n",
       "      <td>2583</td>\n",
       "      <td>2358.0</td>\n",
       "      <td>120.0</td>\n",
       "      <td>360.0</td>\n",
       "      <td>1.0</td>\n",
       "      <td>Urban</td>\n",
       "      <td>1</td>\n",
       "    </tr>\n",
       "    <tr>\n",
       "      <th>4</th>\n",
       "      <td>LP001008</td>\n",
       "      <td>Male</td>\n",
       "      <td>No</td>\n",
       "      <td>0</td>\n",
       "      <td>Graduate</td>\n",
       "      <td>No</td>\n",
       "      <td>6000</td>\n",
       "      <td>0.0</td>\n",
       "      <td>141.0</td>\n",
       "      <td>360.0</td>\n",
       "      <td>1.0</td>\n",
       "      <td>Urban</td>\n",
       "      <td>1</td>\n",
       "    </tr>\n",
       "  </tbody>\n",
       "</table>\n",
       "</div>"
      ],
      "text/plain": [
       "    Loan_ID Gender Married Dependents     Education Self_Employed  \\\n",
       "0  LP001002   Male      No          0      Graduate            No   \n",
       "1  LP001003   Male     Yes          1      Graduate            No   \n",
       "2  LP001005   Male     Yes          0      Graduate           Yes   \n",
       "3  LP001006   Male     Yes          0  Not Graduate            No   \n",
       "4  LP001008   Male      No          0      Graduate            No   \n",
       "\n",
       "   ApplicantIncome  CoapplicantIncome  LoanAmount  Loan_Amount_Term  \\\n",
       "0             5849                0.0         NaN             360.0   \n",
       "1             4583             1508.0       128.0             360.0   \n",
       "2             3000                0.0        66.0             360.0   \n",
       "3             2583             2358.0       120.0             360.0   \n",
       "4             6000                0.0       141.0             360.0   \n",
       "\n",
       "   Credit_History Property_Area  Loan_Status  \n",
       "0             1.0         Urban            1  \n",
       "1             1.0         Rural            0  \n",
       "2             1.0         Urban            1  \n",
       "3             1.0         Urban            1  \n",
       "4             1.0         Urban            1  "
      ]
     },
     "execution_count": 149,
     "metadata": {},
     "output_type": "execute_result"
    }
   ],
   "source": [
    "df.head()"
   ]
  },
  {
   "cell_type": "markdown",
   "metadata": {},
   "source": [
    "- As we can see, the target is encoded into numericals. Now let's divide the dataset into arget and the features to check the relation between target and features."
   ]
  },
  {
   "cell_type": "code",
   "execution_count": 41,
   "metadata": {},
   "outputs": [],
   "source": [
    "#### dividing the feature and label for further operations:\n",
    "y = df['Loan_Status']\n",
    "x = df.drop(columns=['Loan_Status'])\n"
   ]
  },
  {
   "cell_type": "markdown",
   "metadata": {},
   "source": [
    "#### Bivariate analysis:\n",
    "- Checking the relation between Loan_Status with continuous features first."
   ]
  },
  {
   "cell_type": "code",
   "execution_count": 46,
   "metadata": {},
   "outputs": [
    {
     "data": {
      "image/png": "[encoded data removed]",
      "text/plain": [
       "<Figure size 1080x720 with 4 Axes>"
      ]
     },
     "metadata": {},
     "output_type": "display_data"
    }
   ],
   "source": [
    "plt.figure(figsize=(15,10),facecolor='white')\n",
    "plotnumber=1\n",
    "for column in con_features:\n",
    "    if plotnumber<=4:\n",
    "        ax=plt.subplot(2,2,plotnumber)\n",
    "        sns.stripplot(y,con_features[column])\n",
    "        plt.xlabel(column,fontsize=15)\n",
    "        plt.ylabel('Loan_Status',fontsize=15)\n",
    "    plotnumber+=1\n",
    "plt.tight_layout()"
   ]
  },
  {
   "cell_type": "markdown",
   "metadata": {},
   "source": [
    "- As we can see more applicant's income more likely to get a loan.\n",
    "- More income of Coapplicant more likely to get a loan.\n",
    "- More loan amount more likely to get a loan.\n",
    "- Loan is granted to the applicants who payback the loan amount in less time.\n",
    "\n",
    "\n",
    "Let's check the relation between Loan_Status with categorical features as well."
   ]
  },
  {
   "cell_type": "code",
   "execution_count": 23,
   "metadata": {},
   "outputs": [
    {
     "data": {
      "image/png": "[encoded data removed]",
      "text/plain": [
       "<Figure size 576x360 with 1 Axes>"
      ]
     },
     "metadata": {
      "needs_background": "light"
     },
     "output_type": "display_data"
    }
   ],
   "source": [
    "plt.figure(figsize=(8,5))\n",
    "sns.barplot(x='Gender',y='Loan_Status',data=df).set_title('Relation of Gender and Loan_Status')\n",
    "plt.show()"
   ]
  },
  {
   "cell_type": "markdown",
   "metadata": {},
   "source": [
    "- Loan has given to male female respectively."
   ]
  },
  {
   "cell_type": "code",
   "execution_count": 24,
   "metadata": {},
   "outputs": [
    {
     "data": {
      "image/png": "[encoded data removed]",
      "text/plain": [
       "<Figure size 576x360 with 1 Axes>"
      ]
     },
     "metadata": {
      "needs_background": "light"
     },
     "output_type": "display_data"
    }
   ],
   "source": [
    "plt.figure(figsize=(8,5))\n",
    "sns.barplot(x='Married',y='Loan_Status',data=df).set_title('Relation of Married and Loan_Status')\n",
    "plt.show()"
   ]
  },
  {
   "cell_type": "markdown",
   "metadata": {},
   "source": [
    "- Married people are most likely to get loans than single people."
   ]
  },
  {
   "cell_type": "code",
   "execution_count": 25,
   "metadata": {},
   "outputs": [
    {
     "data": {
      "image/png": "[encoded data removed]",
      "text/plain": [
       "<Figure size 576x360 with 1 Axes>"
      ]
     },
     "metadata": {
      "needs_background": "light"
     },
     "output_type": "display_data"
    }
   ],
   "source": [
    "plt.figure(figsize=(8,5))\n",
    "sns.barplot(x='Dependents',y='Loan_Status',data=df).set_title('Relation of Dependents and Loan_Status')\n",
    "plt.show()"
   ]
  },
  {
   "cell_type": "markdown",
   "metadata": {},
   "source": [
    "- Applicants who have 2 dependents or 0 dependents are more likely to get loan than other applicants with more dependents."
   ]
  },
  {
   "cell_type": "code",
   "execution_count": 26,
   "metadata": {},
   "outputs": [
    {
     "data": {
      "image/png": "[encoded data removed]",
      "text/plain": [
       "<Figure size 576x360 with 1 Axes>"
      ]
     },
     "metadata": {
      "needs_background": "light"
     },
     "output_type": "display_data"
    }
   ],
   "source": [
    "plt.figure(figsize=(8,5))\n",
    "sns.barplot(x='Education',y='Loan_Status',data=df).set_title('Relation of Education and Loan_Status')\n",
    "plt.show()"
   ]
  },
  {
   "cell_type": "markdown",
   "metadata": {},
   "source": [
    "- Graduate people are more likely to get loan than non graduate applicants."
   ]
  },
  {
   "cell_type": "code",
   "execution_count": 27,
   "metadata": {},
   "outputs": [
    {
     "data": {
      "image/png": "[encoded data removed]",
      "text/plain": [
       "<Figure size 576x360 with 1 Axes>"
      ]
     },
     "metadata": {
      "needs_background": "light"
     },
     "output_type": "display_data"
    }
   ],
   "source": [
    "plt.figure(figsize=(8,5))\n",
    "sns.barplot(x='Self_Employed',y='Loan_Status',data=df).set_title('Relation of Self_Employed and Loan_Status')\n",
    "plt.show()"
   ]
  },
  {
   "cell_type": "markdown",
   "metadata": {},
   "source": [
    "- Loan is not granted on the basis of self-employment."
   ]
  },
  {
   "cell_type": "code",
   "execution_count": 28,
   "metadata": {},
   "outputs": [
    {
     "data": {
      "image/png": "[encoded data removed]",
      "text/plain": [
       "<Figure size 576x360 with 1 Axes>"
      ]
     },
     "metadata": {
      "needs_background": "light"
     },
     "output_type": "display_data"
    }
   ],
   "source": [
    "plt.figure(figsize=(8,5))\n",
    "sns.barplot(x='Credit_History',y='Loan_Status',data=df).set_title('Relation of Credit_History and Loan_Status')\n",
    "plt.show()"
   ]
  },
  {
   "cell_type": "markdown",
   "metadata": {},
   "source": [
    "- Applicants with good credit history ( categori 1) are more likely to get loans than applicants who do not have good credit history."
   ]
  },
  {
   "cell_type": "code",
   "execution_count": 29,
   "metadata": {},
   "outputs": [
    {
     "data": {
      "image/png": "[encoded data removed]",
      "text/plain": [
       "<Figure size 576x360 with 1 Axes>"
      ]
     },
     "metadata": {
      "needs_background": "light"
     },
     "output_type": "display_data"
    }
   ],
   "source": [
    "plt.figure(figsize=(8,5))\n",
    "sns.barplot(x='Property_Area',y='Loan_Status',data=df).set_title('Relation of Property_Area and Loan_Status')\n",
    "plt.show()"
   ]
  },
  {
   "cell_type": "markdown",
   "metadata": {},
   "source": [
    "- People with Semiurban properties are more likely to get loans than urban and rural property holders."
   ]
  },
  {
   "cell_type": "markdown",
   "metadata": {},
   "source": [
    "#### Mutivariate Analysis:"
   ]
  },
  {
   "cell_type": "code",
   "execution_count": 31,
   "metadata": {},
   "outputs": [
    {
     "data": {
      "image/png": "[encoded data removed]",
      "text/plain": [
       "<Figure size 576x360 with 1 Axes>"
      ]
     },
     "metadata": {
      "needs_background": "light"
     },
     "output_type": "display_data"
    }
   ],
   "source": [
    "plt.figure(figsize=(8,5))\n",
    "sns.barplot(x='Loan_Status',y='ApplicantIncome',hue='Gender',data=df).set_title('Loan_Status regarding gender,ApplicantIncome')\n",
    "plt.show()"
   ]
  },
  {
   "cell_type": "markdown",
   "metadata": {},
   "source": [
    "- Male applicants who's income is less are more likely to get loan than female applicants."
   ]
  },
  {
   "cell_type": "code",
   "execution_count": 32,
   "metadata": {},
   "outputs": [
    {
     "data": {
      "image/png": "[encoded data removed]",
      "text/plain": [
       "<Figure size 576x360 with 1 Axes>"
      ]
     },
     "metadata": {
      "needs_background": "light"
     },
     "output_type": "display_data"
    }
   ],
   "source": [
    "plt.figure(figsize=(8,5))\n",
    "sns.barplot(x='Loan_Status',y='CoapplicantIncome',hue='Gender',data=df).set_title('Loan_Status regarding gender,CoapplicantIncome')\n",
    "plt.show()"
   ]
  },
  {
   "cell_type": "markdown",
   "metadata": {},
   "source": [
    "- Male co-applicants who's income is less are more likely to get loan than female applicants."
   ]
  },
  {
   "cell_type": "code",
   "execution_count": 33,
   "metadata": {},
   "outputs": [
    {
     "data": {
      "image/png": "[encoded data removed]",
      "text/plain": [
       "<Figure size 576x360 with 1 Axes>"
      ]
     },
     "metadata": {
      "needs_background": "light"
     },
     "output_type": "display_data"
    }
   ],
   "source": [
    "plt.figure(figsize=(8,5))\n",
    "sns.barplot(x='Dependents',y='Loan_Status',hue='Gender',data=df).set_title('Loan_Status regarding gender,Dependents')\n",
    "plt.show()"
   ]
  },
  {
   "cell_type": "markdown",
   "metadata": {},
   "source": [
    "- Male applicats with 2 dependents are more likely to get loan than other male or female applicants with other categories of dependents."
   ]
  },
  {
   "cell_type": "code",
   "execution_count": 35,
   "metadata": {},
   "outputs": [
    {
     "data": {
      "image/png": "[encoded data removed]",
      "text/plain": [
       "<Figure size 576x360 with 1 Axes>"
      ]
     },
     "metadata": {
      "needs_background": "light"
     },
     "output_type": "display_data"
    }
   ],
   "source": [
    "plt.figure(figsize=(8,5))\n",
    "sns.barplot(x='Self_Employed',y='Loan_Status',hue='Gender',data=df).set_title('Loan_Status regarding gender,Self_Employed')\n",
    "plt.show()"
   ]
  },
  {
   "cell_type": "markdown",
   "metadata": {},
   "source": [
    "- Loan is not granted on the basis of self-employment.\n",
    "\n",
    "Let's Check the correlations of feature vs feature and feature vs target:"
   ]
  },
  {
   "cell_type": "code",
   "execution_count": 151,
   "metadata": {},
   "outputs": [
    {
     "data": {
      "text/plain": [
       "(6, 6)"
      ]
     },
     "execution_count": 151,
     "metadata": {},
     "output_type": "execute_result"
    }
   ],
   "source": [
    "corr=df.corr()\n",
    "corr.shape"
   ]
  },
  {
   "cell_type": "markdown",
   "metadata": {},
   "source": [
    "#### Plotting heatmap (correlation matrix)\n",
    "\n",
    "Let's try to see if we can reduce the features using different techniques. Let's plot Heatmap to visualize and find the coefficient and multicolinearity."
   ]
  },
  {
   "cell_type": "code",
   "execution_count": 152,
   "metadata": {},
   "outputs": [
    {
     "data": {
      "image/png": "[encoded data removed]",
      "text/plain": [
       "<Figure size 1584x1152 with 2 Axes>"
      ]
     },
     "metadata": {
      "needs_background": "light"
     },
     "output_type": "display_data"
    }
   ],
   "source": [
    "#Checking correlation matrix(heatmap) to understand the feature vs feature relationship.\n",
    "\n",
    "plt.figure(figsize=(22,16))\n",
    "sns.heatmap(corr,cbar=True,cmap='RdPu',vmin=-1,vmax=1,square=True,fmt='.2g',annot=True,\n",
    "            center=True,annot_kws={'size':10},linewidths=.1,linecolor='white')\n",
    "plt.show()"
   ]
  },
  {
   "cell_type": "markdown",
   "metadata": {},
   "source": [
    "- Least correlation between features important for Classification problem.\n",
    "- No feature is correlated with each other.\n",
    "- Loan Amount and Credit History has a good correlation with target variable."
   ]
  },
  {
   "cell_type": "markdown",
   "metadata": {},
   "source": [
    "#### Data Cleaning:\n",
    "\n",
    "- Missing values removal:\n",
    "\n",
    "There are so many missing values present in different features. We will fill those using mean or median depending upon requirements."
   ]
  },
  {
   "cell_type": "code",
   "execution_count": 155,
   "metadata": {},
   "outputs": [],
   "source": [
    "df['LoanAmount'].fillna(df['LoanAmount'].median(),inplace=True)"
   ]
  },
  {
   "cell_type": "code",
   "execution_count": 156,
   "metadata": {},
   "outputs": [],
   "source": [
    "df['Loan_Amount_Term'] = df['Loan_Amount_Term'].fillna(df['Loan_Amount_Term'].mode()[0])"
   ]
  },
  {
   "cell_type": "code",
   "execution_count": 157,
   "metadata": {},
   "outputs": [],
   "source": [
    "df['Credit_History'] = df['Credit_History'].fillna(df['Credit_History'].mode()[0])"
   ]
  },
  {
   "cell_type": "code",
   "execution_count": 158,
   "metadata": {},
   "outputs": [],
   "source": [
    "df['Gender'] = df['Gender'].fillna(df['Gender'].mode()[0])"
   ]
  },
  {
   "cell_type": "code",
   "execution_count": 159,
   "metadata": {},
   "outputs": [],
   "source": [
    "df['Married'] = df['Married'].fillna(df['Married'].mode()[0])"
   ]
  },
  {
   "cell_type": "code",
   "execution_count": 160,
   "metadata": {},
   "outputs": [],
   "source": [
    "df['Dependents'] = df['Dependents'].fillna(df['Dependents'].mode()[0])"
   ]
  },
  {
   "cell_type": "code",
   "execution_count": 161,
   "metadata": {},
   "outputs": [],
   "source": [
    "df['Self_Employed'] = df['Self_Employed'].fillna(df['Self_Employed'].mode()[0])"
   ]
  },
  {
   "cell_type": "markdown",
   "metadata": {},
   "source": [
    "- We have used median method to fill missing values from continuous data and mode for filling categorical data."
   ]
  },
  {
   "cell_type": "code",
   "execution_count": 162,
   "metadata": {},
   "outputs": [
    {
     "data": {
      "text/plain": [
       "Loan_ID              0\n",
       "Gender               0\n",
       "Married              0\n",
       "Dependents           0\n",
       "Education            0\n",
       "Self_Employed        0\n",
       "ApplicantIncome      0\n",
       "CoapplicantIncome    0\n",
       "LoanAmount           0\n",
       "Loan_Amount_Term     0\n",
       "Credit_History       0\n",
       "Property_Area        0\n",
       "Loan_Status          0\n",
       "dtype: int64"
      ]
     },
     "execution_count": 162,
     "metadata": {},
     "output_type": "execute_result"
    }
   ],
   "source": [
    "df.isna().sum()"
   ]
  },
  {
   "cell_type": "markdown",
   "metadata": {},
   "source": [
    "- As we can see there is no missing value present in the dataset after filling those with median and  mode.\n",
    "\n",
    "#### Encoding:\n",
    "\n",
    "Now let's encode the nominal and categorical data into numerical data to use in model. For that we are using ordinal encoder."
   ]
  },
  {
   "cell_type": "code",
   "execution_count": 163,
   "metadata": {},
   "outputs": [
    {
     "data": {
      "text/html": [
       "<div>\n",
       "<style scoped>\n",
       "    .dataframe tbody tr th:only-of-type {\n",
       "        vertical-align: middle;\n",
       "    }\n",
       "\n",
       "    .dataframe tbody tr th {\n",
       "        vertical-align: top;\n",
       "    }\n",
       "\n",
       "    .dataframe thead th {\n",
       "        text-align: right;\n",
       "    }\n",
       "</style>\n",
       "<table border=\"1\" class=\"dataframe\">\n",
       "  <thead>\n",
       "    <tr style=\"text-align: right;\">\n",
       "      <th></th>\n",
       "      <th>Loan_ID</th>\n",
       "      <th>Gender</th>\n",
       "      <th>Married</th>\n",
       "      <th>Dependents</th>\n",
       "      <th>Education</th>\n",
       "      <th>Self_Employed</th>\n",
       "      <th>ApplicantIncome</th>\n",
       "      <th>CoapplicantIncome</th>\n",
       "      <th>LoanAmount</th>\n",
       "      <th>Loan_Amount_Term</th>\n",
       "      <th>Credit_History</th>\n",
       "      <th>Property_Area</th>\n",
       "      <th>Loan_Status</th>\n",
       "    </tr>\n",
       "  </thead>\n",
       "  <tbody>\n",
       "    <tr>\n",
       "      <th>0</th>\n",
       "      <td>0.0</td>\n",
       "      <td>1.0</td>\n",
       "      <td>0.0</td>\n",
       "      <td>0.0</td>\n",
       "      <td>0.0</td>\n",
       "      <td>0.0</td>\n",
       "      <td>5849</td>\n",
       "      <td>0.0</td>\n",
       "      <td>128.0</td>\n",
       "      <td>360.0</td>\n",
       "      <td>1.0</td>\n",
       "      <td>2.0</td>\n",
       "      <td>1</td>\n",
       "    </tr>\n",
       "    <tr>\n",
       "      <th>1</th>\n",
       "      <td>1.0</td>\n",
       "      <td>1.0</td>\n",
       "      <td>1.0</td>\n",
       "      <td>1.0</td>\n",
       "      <td>0.0</td>\n",
       "      <td>0.0</td>\n",
       "      <td>4583</td>\n",
       "      <td>1508.0</td>\n",
       "      <td>128.0</td>\n",
       "      <td>360.0</td>\n",
       "      <td>1.0</td>\n",
       "      <td>0.0</td>\n",
       "      <td>0</td>\n",
       "    </tr>\n",
       "    <tr>\n",
       "      <th>2</th>\n",
       "      <td>2.0</td>\n",
       "      <td>1.0</td>\n",
       "      <td>1.0</td>\n",
       "      <td>0.0</td>\n",
       "      <td>0.0</td>\n",
       "      <td>1.0</td>\n",
       "      <td>3000</td>\n",
       "      <td>0.0</td>\n",
       "      <td>66.0</td>\n",
       "      <td>360.0</td>\n",
       "      <td>1.0</td>\n",
       "      <td>2.0</td>\n",
       "      <td>1</td>\n",
       "    </tr>\n",
       "    <tr>\n",
       "      <th>3</th>\n",
       "      <td>3.0</td>\n",
       "      <td>1.0</td>\n",
       "      <td>1.0</td>\n",
       "      <td>0.0</td>\n",
       "      <td>1.0</td>\n",
       "      <td>0.0</td>\n",
       "      <td>2583</td>\n",
       "      <td>2358.0</td>\n",
       "      <td>120.0</td>\n",
       "      <td>360.0</td>\n",
       "      <td>1.0</td>\n",
       "      <td>2.0</td>\n",
       "      <td>1</td>\n",
       "    </tr>\n",
       "    <tr>\n",
       "      <th>4</th>\n",
       "      <td>4.0</td>\n",
       "      <td>1.0</td>\n",
       "      <td>0.0</td>\n",
       "      <td>0.0</td>\n",
       "      <td>0.0</td>\n",
       "      <td>0.0</td>\n",
       "      <td>6000</td>\n",
       "      <td>0.0</td>\n",
       "      <td>141.0</td>\n",
       "      <td>360.0</td>\n",
       "      <td>1.0</td>\n",
       "      <td>2.0</td>\n",
       "      <td>1</td>\n",
       "    </tr>\n",
       "  </tbody>\n",
       "</table>\n",
       "</div>"
      ],
      "text/plain": [
       "   Loan_ID  Gender  Married  Dependents  Education  Self_Employed  \\\n",
       "0      0.0     1.0      0.0         0.0        0.0            0.0   \n",
       "1      1.0     1.0      1.0         1.0        0.0            0.0   \n",
       "2      2.0     1.0      1.0         0.0        0.0            1.0   \n",
       "3      3.0     1.0      1.0         0.0        1.0            0.0   \n",
       "4      4.0     1.0      0.0         0.0        0.0            0.0   \n",
       "\n",
       "   ApplicantIncome  CoapplicantIncome  LoanAmount  Loan_Amount_Term  \\\n",
       "0             5849                0.0       128.0             360.0   \n",
       "1             4583             1508.0       128.0             360.0   \n",
       "2             3000                0.0        66.0             360.0   \n",
       "3             2583             2358.0       120.0             360.0   \n",
       "4             6000                0.0       141.0             360.0   \n",
       "\n",
       "   Credit_History  Property_Area  Loan_Status  \n",
       "0             1.0            2.0            1  \n",
       "1             1.0            0.0            0  \n",
       "2             1.0            2.0            1  \n",
       "3             1.0            2.0            1  \n",
       "4             1.0            2.0            1  "
      ]
     },
     "execution_count": 163,
     "metadata": {},
     "output_type": "execute_result"
    }
   ],
   "source": [
    "en=OrdinalEncoder()\n",
    "for i in df.columns:\n",
    "    if df[i].dtypes=='object':\n",
    "        df[i]=en.fit_transform(df[i].values.reshape(-1,1))\n",
    "df.head()"
   ]
  },
  {
   "cell_type": "markdown",
   "metadata": {},
   "source": [
    "- As we can see all the nominal data is encoded into numerical data.\n",
    "\n",
    "Now let's drop the unique id column as it's not bearing any important data."
   ]
  },
  {
   "cell_type": "code",
   "execution_count": 167,
   "metadata": {},
   "outputs": [],
   "source": [
    "drop_column=['Loan_ID']  #Drop Alert\n",
    "df=df.drop(columns=drop_column,axis=1)"
   ]
  },
  {
   "cell_type": "markdown",
   "metadata": {},
   "source": [
    "- After dropping the unnecessory column we are going to check the skewness and remove those skewness."
   ]
  },
  {
   "cell_type": "code",
   "execution_count": 65,
   "metadata": {},
   "outputs": [
    {
     "data": {
      "text/plain": [
       "Gender              -1.648795\n",
       "Married             -0.644850\n",
       "Dependents           1.015551\n",
       "Education            1.367622\n",
       "Self_Employed        2.159796\n",
       "ApplicantIncome      6.539513\n",
       "CoapplicantIncome    7.491531\n",
       "LoanAmount           2.743053\n",
       "Loan_Amount_Term    -2.402112\n",
       "Credit_History      -2.021971\n",
       "Property_Area       -0.066196\n",
       "Loan_Status         -0.809998\n",
       "dtype: float64"
      ]
     },
     "execution_count": 65,
     "metadata": {},
     "output_type": "execute_result"
    }
   ],
   "source": [
    "df.skew()"
   ]
  },
  {
   "cell_type": "markdown",
   "metadata": {},
   "source": [
    "- Most of the features consists of skewness, we need to remove those.\n",
    "\n",
    "#### Outlier Removal:"
   ]
  },
  {
   "cell_type": "markdown",
   "metadata": {},
   "source": [
    "- For Outlier removal we are using z-score."
   ]
  },
  {
   "cell_type": "code",
   "execution_count": 165,
   "metadata": {},
   "outputs": [
    {
     "data": {
      "text/html": [
       "<div>\n",
       "<style scoped>\n",
       "    .dataframe tbody tr th:only-of-type {\n",
       "        vertical-align: middle;\n",
       "    }\n",
       "\n",
       "    .dataframe tbody tr th {\n",
       "        vertical-align: top;\n",
       "    }\n",
       "\n",
       "    .dataframe thead th {\n",
       "        text-align: right;\n",
       "    }\n",
       "</style>\n",
       "<table border=\"1\" class=\"dataframe\">\n",
       "  <thead>\n",
       "    <tr style=\"text-align: right;\">\n",
       "      <th></th>\n",
       "      <th>Loan_ID</th>\n",
       "      <th>Gender</th>\n",
       "      <th>Married</th>\n",
       "      <th>Dependents</th>\n",
       "      <th>Education</th>\n",
       "      <th>Self_Employed</th>\n",
       "      <th>ApplicantIncome</th>\n",
       "      <th>CoapplicantIncome</th>\n",
       "      <th>LoanAmount</th>\n",
       "      <th>Loan_Amount_Term</th>\n",
       "      <th>Credit_History</th>\n",
       "      <th>Property_Area</th>\n",
       "      <th>Loan_Status</th>\n",
       "    </tr>\n",
       "  </thead>\n",
       "  <tbody>\n",
       "    <tr>\n",
       "      <th>count</th>\n",
       "      <td>585.000000</td>\n",
       "      <td>585.000000</td>\n",
       "      <td>585.000000</td>\n",
       "      <td>585.000000</td>\n",
       "      <td>585.000000</td>\n",
       "      <td>585.000000</td>\n",
       "      <td>585.000000</td>\n",
       "      <td>585.000000</td>\n",
       "      <td>585.000000</td>\n",
       "      <td>585.000000</td>\n",
       "      <td>585.000000</td>\n",
       "      <td>585.000000</td>\n",
       "      <td>585.000000</td>\n",
       "    </tr>\n",
       "    <tr>\n",
       "      <th>mean</th>\n",
       "      <td>302.673504</td>\n",
       "      <td>0.817094</td>\n",
       "      <td>0.651282</td>\n",
       "      <td>0.723077</td>\n",
       "      <td>0.225641</td>\n",
       "      <td>0.128205</td>\n",
       "      <td>4756.025641</td>\n",
       "      <td>1421.982769</td>\n",
       "      <td>136.960684</td>\n",
       "      <td>346.974359</td>\n",
       "      <td>0.852991</td>\n",
       "      <td>1.029060</td>\n",
       "      <td>0.692308</td>\n",
       "    </tr>\n",
       "    <tr>\n",
       "      <th>std</th>\n",
       "      <td>177.167394</td>\n",
       "      <td>0.386920</td>\n",
       "      <td>0.476972</td>\n",
       "      <td>0.997547</td>\n",
       "      <td>0.418361</td>\n",
       "      <td>0.334604</td>\n",
       "      <td>3161.724275</td>\n",
       "      <td>1693.294145</td>\n",
       "      <td>61.213640</td>\n",
       "      <td>54.022202</td>\n",
       "      <td>0.354417</td>\n",
       "      <td>0.787864</td>\n",
       "      <td>0.461933</td>\n",
       "    </tr>\n",
       "    <tr>\n",
       "      <th>min</th>\n",
       "      <td>0.000000</td>\n",
       "      <td>0.000000</td>\n",
       "      <td>0.000000</td>\n",
       "      <td>0.000000</td>\n",
       "      <td>0.000000</td>\n",
       "      <td>0.000000</td>\n",
       "      <td>150.000000</td>\n",
       "      <td>0.000000</td>\n",
       "      <td>9.000000</td>\n",
       "      <td>120.000000</td>\n",
       "      <td>0.000000</td>\n",
       "      <td>0.000000</td>\n",
       "      <td>0.000000</td>\n",
       "    </tr>\n",
       "    <tr>\n",
       "      <th>25%</th>\n",
       "      <td>148.000000</td>\n",
       "      <td>1.000000</td>\n",
       "      <td>0.000000</td>\n",
       "      <td>0.000000</td>\n",
       "      <td>0.000000</td>\n",
       "      <td>0.000000</td>\n",
       "      <td>2833.000000</td>\n",
       "      <td>0.000000</td>\n",
       "      <td>100.000000</td>\n",
       "      <td>360.000000</td>\n",
       "      <td>1.000000</td>\n",
       "      <td>0.000000</td>\n",
       "      <td>0.000000</td>\n",
       "    </tr>\n",
       "    <tr>\n",
       "      <th>50%</th>\n",
       "      <td>301.000000</td>\n",
       "      <td>1.000000</td>\n",
       "      <td>1.000000</td>\n",
       "      <td>0.000000</td>\n",
       "      <td>0.000000</td>\n",
       "      <td>0.000000</td>\n",
       "      <td>3750.000000</td>\n",
       "      <td>1229.000000</td>\n",
       "      <td>128.000000</td>\n",
       "      <td>360.000000</td>\n",
       "      <td>1.000000</td>\n",
       "      <td>1.000000</td>\n",
       "      <td>1.000000</td>\n",
       "    </tr>\n",
       "    <tr>\n",
       "      <th>75%</th>\n",
       "      <td>455.000000</td>\n",
       "      <td>1.000000</td>\n",
       "      <td>1.000000</td>\n",
       "      <td>1.000000</td>\n",
       "      <td>0.000000</td>\n",
       "      <td>0.000000</td>\n",
       "      <td>5667.000000</td>\n",
       "      <td>2250.000000</td>\n",
       "      <td>160.000000</td>\n",
       "      <td>360.000000</td>\n",
       "      <td>1.000000</td>\n",
       "      <td>2.000000</td>\n",
       "      <td>1.000000</td>\n",
       "    </tr>\n",
       "    <tr>\n",
       "      <th>max</th>\n",
       "      <td>613.000000</td>\n",
       "      <td>1.000000</td>\n",
       "      <td>1.000000</td>\n",
       "      <td>3.000000</td>\n",
       "      <td>1.000000</td>\n",
       "      <td>1.000000</td>\n",
       "      <td>23803.000000</td>\n",
       "      <td>10968.000000</td>\n",
       "      <td>436.000000</td>\n",
       "      <td>480.000000</td>\n",
       "      <td>1.000000</td>\n",
       "      <td>2.000000</td>\n",
       "      <td>1.000000</td>\n",
       "    </tr>\n",
       "  </tbody>\n",
       "</table>\n",
       "</div>"
      ],
      "text/plain": [
       "          Loan_ID      Gender     Married  Dependents   Education  \\\n",
       "count  585.000000  585.000000  585.000000  585.000000  585.000000   \n",
       "mean   302.673504    0.817094    0.651282    0.723077    0.225641   \n",
       "std    177.167394    0.386920    0.476972    0.997547    0.418361   \n",
       "min      0.000000    0.000000    0.000000    0.000000    0.000000   \n",
       "25%    148.000000    1.000000    0.000000    0.000000    0.000000   \n",
       "50%    301.000000    1.000000    1.000000    0.000000    0.000000   \n",
       "75%    455.000000    1.000000    1.000000    1.000000    0.000000   \n",
       "max    613.000000    1.000000    1.000000    3.000000    1.000000   \n",
       "\n",
       "       Self_Employed  ApplicantIncome  CoapplicantIncome  LoanAmount  \\\n",
       "count     585.000000       585.000000         585.000000  585.000000   \n",
       "mean        0.128205      4756.025641        1421.982769  136.960684   \n",
       "std         0.334604      3161.724275        1693.294145   61.213640   \n",
       "min         0.000000       150.000000           0.000000    9.000000   \n",
       "25%         0.000000      2833.000000           0.000000  100.000000   \n",
       "50%         0.000000      3750.000000        1229.000000  128.000000   \n",
       "75%         0.000000      5667.000000        2250.000000  160.000000   \n",
       "max         1.000000     23803.000000       10968.000000  436.000000   \n",
       "\n",
       "       Loan_Amount_Term  Credit_History  Property_Area  Loan_Status  \n",
       "count        585.000000      585.000000     585.000000   585.000000  \n",
       "mean         346.974359        0.852991       1.029060     0.692308  \n",
       "std           54.022202        0.354417       0.787864     0.461933  \n",
       "min          120.000000        0.000000       0.000000     0.000000  \n",
       "25%          360.000000        1.000000       0.000000     0.000000  \n",
       "50%          360.000000        1.000000       1.000000     1.000000  \n",
       "75%          360.000000        1.000000       2.000000     1.000000  \n",
       "max          480.000000        1.000000       2.000000     1.000000  "
      ]
     },
     "execution_count": 165,
     "metadata": {},
     "output_type": "execute_result"
    }
   ],
   "source": [
    "z_score = zscore(df[['Gender','Dependents','Education','Self_Employed','ApplicantIncome','CoapplicantIncome',\n",
    "                'LoanAmount','Loan_Amount_Term','Credit_History']])     \n",
    "abs_z_score=np.abs(z_score)#converting data into standard normal distribution\n",
    "\n",
    "filtering_entry=(abs_z_score<3.5).all(axis=1)\n",
    "\n",
    "df=df[filtering_entry]\n",
    "df.describe()"
   ]
  },
  {
   "cell_type": "markdown",
   "metadata": {},
   "source": [
    "- As we can see, all the outliers of the data are removed and it is now looking better. Let's remove the skewness as well."
   ]
  },
  {
   "cell_type": "code",
   "execution_count": 166,
   "metadata": {},
   "outputs": [
    {
     "data": {
      "text/plain": [
       "Loan_ID              0.016850\n",
       "Gender              -1.644689\n",
       "Married             -0.636519\n",
       "Dependents           1.044111\n",
       "Education            1.316088\n",
       "Self_Employed        2.229920\n",
       "ApplicantIncome      2.269125\n",
       "CoapplicantIncome    1.535617\n",
       "LoanAmount           1.424895\n",
       "Loan_Amount_Term    -2.157886\n",
       "Credit_History      -1.998786\n",
       "Property_Area       -0.051356\n",
       "Loan_Status         -0.835477\n",
       "dtype: float64"
      ]
     },
     "execution_count": 166,
     "metadata": {},
     "output_type": "execute_result"
    }
   ],
   "source": [
    "df.skew()"
   ]
  },
  {
   "cell_type": "markdown",
   "metadata": {},
   "source": [
    "- Before remove the skewness we will replace the minimum value 0 from co-applicant income feature. "
   ]
  },
  {
   "cell_type": "code",
   "execution_count": 168,
   "metadata": {},
   "outputs": [],
   "source": [
    "df['CoapplicantIncome']=df['CoapplicantIncome'].replace(0,df['CoapplicantIncome'].median())"
   ]
  },
  {
   "cell_type": "markdown",
   "metadata": {},
   "source": [
    "- As the 0 value is replaced, now we will remove the skewness from the data by using Power Transformer.\n",
    "For that we will instantiate the features with skewness into a single variable."
   ]
  },
  {
   "cell_type": "code",
   "execution_count": 212,
   "metadata": {},
   "outputs": [],
   "source": [
    "features=['Gender','Dependents','Education','Self_Employed','ApplicantIncome','CoapplicantIncome',\n",
    "          'LoanAmount','Loan_Amount_Term','Credit_History']"
   ]
  },
  {
   "cell_type": "code",
   "execution_count": 213,
   "metadata": {},
   "outputs": [],
   "source": [
    "scaler=PowerTransformer(method='yeo-johnson')  #using yeo-johnson method"
   ]
  },
  {
   "cell_type": "code",
   "execution_count": 214,
   "metadata": {},
   "outputs": [],
   "source": [
    "df[features]=scaler.fit_transform(df[features].values)#scaling the features"
   ]
  },
  {
   "cell_type": "code",
   "execution_count": 215,
   "metadata": {},
   "outputs": [
    {
     "data": {
      "text/html": [
       "<div>\n",
       "<style scoped>\n",
       "    .dataframe tbody tr th:only-of-type {\n",
       "        vertical-align: middle;\n",
       "    }\n",
       "\n",
       "    .dataframe tbody tr th {\n",
       "        vertical-align: top;\n",
       "    }\n",
       "\n",
       "    .dataframe thead th {\n",
       "        text-align: right;\n",
       "    }\n",
       "</style>\n",
       "<table border=\"1\" class=\"dataframe\">\n",
       "  <thead>\n",
       "    <tr style=\"text-align: right;\">\n",
       "      <th></th>\n",
       "      <th>Gender</th>\n",
       "      <th>Dependents</th>\n",
       "      <th>Education</th>\n",
       "      <th>Self_Employed</th>\n",
       "      <th>ApplicantIncome</th>\n",
       "      <th>CoapplicantIncome</th>\n",
       "      <th>LoanAmount</th>\n",
       "      <th>Loan_Amount_Term</th>\n",
       "      <th>Credit_History</th>\n",
       "    </tr>\n",
       "  </thead>\n",
       "  <tbody>\n",
       "    <tr>\n",
       "      <th>0</th>\n",
       "      <td>0.473127</td>\n",
       "      <td>-0.811325</td>\n",
       "      <td>-0.539806</td>\n",
       "      <td>-0.383482</td>\n",
       "      <td>0.663752</td>\n",
       "      <td>-0.580409</td>\n",
       "      <td>0.008058</td>\n",
       "      <td>0.149383</td>\n",
       "      <td>0.415144</td>\n",
       "    </tr>\n",
       "    <tr>\n",
       "      <th>1</th>\n",
       "      <td>0.473127</td>\n",
       "      <td>0.895954</td>\n",
       "      <td>-0.539806</td>\n",
       "      <td>-0.383482</td>\n",
       "      <td>0.240940</td>\n",
       "      <td>-0.187904</td>\n",
       "      <td>0.008058</td>\n",
       "      <td>0.149383</td>\n",
       "      <td>0.415144</td>\n",
       "    </tr>\n",
       "    <tr>\n",
       "      <th>2</th>\n",
       "      <td>0.473127</td>\n",
       "      <td>-0.811325</td>\n",
       "      <td>-0.539806</td>\n",
       "      <td>2.607681</td>\n",
       "      <td>-0.511571</td>\n",
       "      <td>-0.580409</td>\n",
       "      <td>-1.379968</td>\n",
       "      <td>0.149383</td>\n",
       "      <td>0.415144</td>\n",
       "    </tr>\n",
       "    <tr>\n",
       "      <th>3</th>\n",
       "      <td>0.473127</td>\n",
       "      <td>-0.811325</td>\n",
       "      <td>1.852517</td>\n",
       "      <td>-0.383482</td>\n",
       "      <td>-0.782007</td>\n",
       "      <td>0.635243</td>\n",
       "      <td>-0.137546</td>\n",
       "      <td>0.149383</td>\n",
       "      <td>0.415144</td>\n",
       "    </tr>\n",
       "    <tr>\n",
       "      <th>4</th>\n",
       "      <td>0.473127</td>\n",
       "      <td>-0.811325</td>\n",
       "      <td>-0.539806</td>\n",
       "      <td>-0.383482</td>\n",
       "      <td>0.707627</td>\n",
       "      <td>-0.580409</td>\n",
       "      <td>0.230250</td>\n",
       "      <td>0.149383</td>\n",
       "      <td>0.415144</td>\n",
       "    </tr>\n",
       "    <tr>\n",
       "      <th>...</th>\n",
       "      <td>...</td>\n",
       "      <td>...</td>\n",
       "      <td>...</td>\n",
       "      <td>...</td>\n",
       "      <td>...</td>\n",
       "      <td>...</td>\n",
       "      <td>...</td>\n",
       "      <td>...</td>\n",
       "      <td>...</td>\n",
       "    </tr>\n",
       "    <tr>\n",
       "      <th>609</th>\n",
       "      <td>-2.113596</td>\n",
       "      <td>-0.811325</td>\n",
       "      <td>-0.539806</td>\n",
       "      <td>-0.383482</td>\n",
       "      <td>-0.572675</td>\n",
       "      <td>-0.580409</td>\n",
       "      <td>-1.238633</td>\n",
       "      <td>0.149383</td>\n",
       "      <td>0.415144</td>\n",
       "    </tr>\n",
       "    <tr>\n",
       "      <th>610</th>\n",
       "      <td>0.473127</td>\n",
       "      <td>1.531452</td>\n",
       "      <td>-0.539806</td>\n",
       "      <td>-0.383482</td>\n",
       "      <td>0.048175</td>\n",
       "      <td>-0.580409</td>\n",
       "      <td>-2.273799</td>\n",
       "      <td>-2.559549</td>\n",
       "      <td>0.415144</td>\n",
       "    </tr>\n",
       "    <tr>\n",
       "      <th>611</th>\n",
       "      <td>0.473127</td>\n",
       "      <td>0.895954</td>\n",
       "      <td>-0.539806</td>\n",
       "      <td>-0.383482</td>\n",
       "      <td>1.215223</td>\n",
       "      <td>-3.801379</td>\n",
       "      <td>1.690468</td>\n",
       "      <td>0.149383</td>\n",
       "      <td>0.415144</td>\n",
       "    </tr>\n",
       "    <tr>\n",
       "      <th>612</th>\n",
       "      <td>0.473127</td>\n",
       "      <td>1.340387</td>\n",
       "      <td>-0.539806</td>\n",
       "      <td>-0.383482</td>\n",
       "      <td>1.108686</td>\n",
       "      <td>-0.580409</td>\n",
       "      <td>0.908676</td>\n",
       "      <td>0.149383</td>\n",
       "      <td>0.415144</td>\n",
       "    </tr>\n",
       "    <tr>\n",
       "      <th>613</th>\n",
       "      <td>-2.113596</td>\n",
       "      <td>-0.811325</td>\n",
       "      <td>-0.539806</td>\n",
       "      <td>2.607681</td>\n",
       "      <td>0.240940</td>\n",
       "      <td>-0.580409</td>\n",
       "      <td>0.095501</td>\n",
       "      <td>0.149383</td>\n",
       "      <td>-2.408802</td>\n",
       "    </tr>\n",
       "  </tbody>\n",
       "</table>\n",
       "<p>585 rows × 9 columns</p>\n",
       "</div>"
      ],
      "text/plain": [
       "       Gender  Dependents  Education  Self_Employed  ApplicantIncome  \\\n",
       "0    0.473127   -0.811325  -0.539806      -0.383482         0.663752   \n",
       "1    0.473127    0.895954  -0.539806      -0.383482         0.240940   \n",
       "2    0.473127   -0.811325  -0.539806       2.607681        -0.511571   \n",
       "3    0.473127   -0.811325   1.852517      -0.383482        -0.782007   \n",
       "4    0.473127   -0.811325  -0.539806      -0.383482         0.707627   \n",
       "..        ...         ...        ...            ...              ...   \n",
       "609 -2.113596   -0.811325  -0.539806      -0.383482        -0.572675   \n",
       "610  0.473127    1.531452  -0.539806      -0.383482         0.048175   \n",
       "611  0.473127    0.895954  -0.539806      -0.383482         1.215223   \n",
       "612  0.473127    1.340387  -0.539806      -0.383482         1.108686   \n",
       "613 -2.113596   -0.811325  -0.539806       2.607681         0.240940   \n",
       "\n",
       "     CoapplicantIncome  LoanAmount  Loan_Amount_Term  Credit_History  \n",
       "0            -0.580409    0.008058          0.149383        0.415144  \n",
       "1            -0.187904    0.008058          0.149383        0.415144  \n",
       "2            -0.580409   -1.379968          0.149383        0.415144  \n",
       "3             0.635243   -0.137546          0.149383        0.415144  \n",
       "4            -0.580409    0.230250          0.149383        0.415144  \n",
       "..                 ...         ...               ...             ...  \n",
       "609          -0.580409   -1.238633          0.149383        0.415144  \n",
       "610          -0.580409   -2.273799         -2.559549        0.415144  \n",
       "611          -3.801379    1.690468          0.149383        0.415144  \n",
       "612          -0.580409    0.908676          0.149383        0.415144  \n",
       "613          -0.580409    0.095501          0.149383       -2.408802  \n",
       "\n",
       "[585 rows x 9 columns]"
      ]
     },
     "execution_count": 215,
     "metadata": {},
     "output_type": "execute_result"
    }
   ],
   "source": [
    "df[features]"
   ]
  },
  {
   "cell_type": "markdown",
   "metadata": {},
   "source": [
    "- Now the features are looking way better than before."
   ]
  },
  {
   "cell_type": "code",
   "execution_count": 216,
   "metadata": {},
   "outputs": [
    {
     "data": {
      "text/plain": [
       "Gender              -1.644689\n",
       "Married             -0.636519\n",
       "Dependents           0.473772\n",
       "Education            1.316088\n",
       "Self_Employed        2.229920\n",
       "ApplicantIncome     -0.255246\n",
       "CoapplicantIncome   -0.712084\n",
       "LoanAmount          -0.047797\n",
       "Loan_Amount_Term     0.415847\n",
       "Credit_History      -1.998786\n",
       "Property_Area       -0.051356\n",
       "Loan_Status         -0.835477\n",
       "dtype: float64"
      ]
     },
     "execution_count": 216,
     "metadata": {},
     "output_type": "execute_result"
    }
   ],
   "source": [
    "df.skew()"
   ]
  },
  {
   "cell_type": "markdown",
   "metadata": {},
   "source": [
    "- The skewness is almost gone and our data is ready.\n",
    "\n",
    "Now, let's do model creation, but before that we will separate the dataset into target and features."
   ]
  },
  {
   "cell_type": "code",
   "execution_count": 217,
   "metadata": {},
   "outputs": [],
   "source": [
    "y=df['Loan_Status']\n",
    "x=df.drop(columns=['Loan_Status'])"
   ]
  },
  {
   "cell_type": "markdown",
   "metadata": {},
   "source": [
    "- After separation we will balance the target variable. Let's do it."
   ]
  },
  {
   "cell_type": "code",
   "execution_count": 218,
   "metadata": {},
   "outputs": [],
   "source": [
    "from imblearn.over_sampling import SMOTE\n",
    "sm=SMOTE()\n",
    "x,y = sm.fit_resample(x,y)"
   ]
  },
  {
   "cell_type": "code",
   "execution_count": 219,
   "metadata": {},
   "outputs": [
    {
     "data": {
      "text/plain": [
       "1    405\n",
       "0    405\n",
       "Name: Loan_Status, dtype: int64"
      ]
     },
     "execution_count": 219,
     "metadata": {},
     "output_type": "execute_result"
    }
   ],
   "source": [
    "y.value_counts()"
   ]
  },
  {
   "cell_type": "markdown",
   "metadata": {},
   "source": [
    "- Our target variable is balanced now we will standardize the features as they are in different scales.\n",
    "\n",
    "#### Standardization:"
   ]
  },
  {
   "cell_type": "code",
   "execution_count": 220,
   "metadata": {},
   "outputs": [],
   "source": [
    "scaler = StandardScaler()\n",
    "x_scaled = scaler.fit_transform(x)"
   ]
  },
  {
   "cell_type": "markdown",
   "metadata": {},
   "source": [
    "##### Hold Out Method:\n",
    "\n",
    "Model will be built on Hold Out method(75/25 training and test split) to gauge how well the classifier is working."
   ]
  },
  {
   "cell_type": "code",
   "execution_count": 221,
   "metadata": {},
   "outputs": [],
   "source": [
    "x_train,x_test,y_train,y_test=train_test_split(x_scaled,y,test_size=0.25,random_state=42)"
   ]
  },
  {
   "cell_type": "markdown",
   "metadata": {},
   "source": [
    "#### Model Creation:\n",
    "Now let's see the Accuracy scores according to six models we have used below. we are using models like,\n",
    "1. Logistic Regression,\n",
    "2. Decision Tree Classifier,\n",
    "3. Random Forest Classifier,\n",
    "4. K-Nearest Neighbors Classifier,\n",
    "5. Gradient Boosting Classifier,\n",
    "6. Support Vector Classifier.\n",
    "\n",
    "#### 1. Logistic Regression:"
   ]
  },
  {
   "cell_type": "code",
   "execution_count": 222,
   "metadata": {},
   "outputs": [
    {
     "name": "stdout",
     "output_type": "stream",
     "text": [
      "\n",
      "=======================Train Result===========================\n",
      "Accuracy score:72.32%\n",
      "_______________________________________________________________\n",
      "CLASSIFICATION REPORT:\n",
      "                    0           1  accuracy   macro avg  weighted avg\n",
      "precision    0.922581    0.654867  0.723229    0.788724      0.786739\n",
      "recall       0.478261    0.961039  0.723229    0.719650      0.723229\n",
      "f1-score     0.629956    0.778947  0.723229    0.704452      0.705556\n",
      "support    299.000000  308.000000  0.723229  607.000000    607.000000\n",
      "________________________________________________________________\n",
      " Confusion Matrix:\n",
      "[[143 156]\n",
      " [ 12 296]]\n",
      "\n"
     ]
    }
   ],
   "source": [
    "lr = LogisticRegression()\n",
    "lr.fit(x_train,y_train)\n",
    "lr_pred = lr.predict(x_train)\n",
    "lr_clf_report = pd.DataFrame(classification_report(y_train,lr_pred,output_dict=True))\n",
    "print(\"\\n=======================Train Result===========================\")\n",
    "print(f\"Accuracy score:{accuracy_score(y_train,lr_pred)*100:.2f}%\")\n",
    "print(\"_______________________________________________________________\")\n",
    "print(f\"CLASSIFICATION REPORT:\\n{lr_clf_report}\")\n",
    "print(\"________________________________________________________________\")\n",
    "print(f\" Confusion Matrix:\\n{confusion_matrix(y_train,lr_pred)}\\n\")\n",
    "      "
   ]
  },
  {
   "cell_type": "code",
   "execution_count": 223,
   "metadata": {},
   "outputs": [
    {
     "name": "stdout",
     "output_type": "stream",
     "text": [
      "\n",
      "=======================Test Result of LR ===========================\n",
      "Accuracy score:71.43%\n",
      "_______________________________________________________________\n",
      "CLASSIFICATION REPORT:\n",
      "                    0          1  accuracy   macro avg  weighted avg\n",
      "precision    0.961538   0.629139  0.714286    0.795339      0.802707\n",
      "recall       0.471698   0.979381  0.714286    0.725540      0.714286\n",
      "f1-score     0.632911   0.766129  0.714286    0.699520      0.696567\n",
      "support    106.000000  97.000000  0.714286  203.000000    203.000000\n",
      "________________________________________________________________\n",
      " Confusion Matrix:\n",
      "[[50 56]\n",
      " [ 2 95]]\n",
      "\n"
     ]
    }
   ],
   "source": [
    "lr_pred=lr.predict(x_test)\n",
    "lr_clf_report = pd.DataFrame(classification_report(y_test,lr_pred,output_dict=True))\n",
    "print(\"\\n=======================Test Result of LR ===========================\")\n",
    "print(f\"Accuracy score:{accuracy_score(y_test,lr_pred)*100:.2f}%\")\n",
    "print(\"_______________________________________________________________\")\n",
    "print(f\"CLASSIFICATION REPORT:\\n{lr_clf_report}\")\n",
    "print(\"________________________________________________________________\")\n",
    "print(f\" Confusion Matrix:\\n{confusion_matrix(y_test,lr_pred)}\\n\")      \n",
    "      "
   ]
  },
  {
   "cell_type": "code",
   "execution_count": 224,
   "metadata": {},
   "outputs": [
    {
     "data": {
      "image/png": "[encoded data removed]",
      "text/plain": [
       "<Figure size 504x504 with 2 Axes>"
      ]
     },
     "metadata": {
      "needs_background": "light"
     },
     "output_type": "display_data"
    }
   ],
   "source": [
    "cm = confusion_matrix(y_test,lr_pred)\n",
    "\n",
    "x_axis_labels=['NO Loan','YES Loan']\n",
    "y_axis_labels=['NO Loan','YES Loan']\n",
    "\n",
    "ax=plt.subplots(figsize=(7,7))\n",
    "sns.heatmap(cm,annot=True,linewidths=0.1,fmt='.2f',cmap='Reds',xticklabels=x_axis_labels,yticklabels=y_axis_labels)\n",
    "plt.xlabel('PREDICTED LABEL')\n",
    "plt.ylabel('TRUE LABEL')\n",
    "plt.title('Confusion Matrix For Logistic Regression')\n",
    "\n",
    "plt.show()"
   ]
  },
  {
   "cell_type": "code",
   "execution_count": 225,
   "metadata": {},
   "outputs": [
    {
     "data": {
      "text/plain": [
       "0.7255397782532581"
      ]
     },
     "execution_count": 225,
     "metadata": {},
     "output_type": "execute_result"
    }
   ],
   "source": [
    "#checking ROC_AUC Score of Logistic Regression:\n",
    "roc_auc_score(y_test,lr.predict(x_test))"
   ]
  },
  {
   "cell_type": "markdown",
   "metadata": {},
   "source": [
    "#### 2.  Decision Tree Classifier :"
   ]
  },
  {
   "cell_type": "code",
   "execution_count": 226,
   "metadata": {},
   "outputs": [
    {
     "name": "stdout",
     "output_type": "stream",
     "text": [
      "\n",
      "=======================Train Result===========================\n",
      "Accuracy score:100.00%\n",
      "_______________________________________________________________\n",
      "CLASSIFICATION REPORT:\n",
      "               0      1  accuracy  macro avg  weighted avg\n",
      "precision    1.0    1.0       1.0        1.0           1.0\n",
      "recall       1.0    1.0       1.0        1.0           1.0\n",
      "f1-score     1.0    1.0       1.0        1.0           1.0\n",
      "support    299.0  308.0       1.0      607.0         607.0\n",
      "________________________________________________________________\n",
      " Confusion Matrix:\n",
      "[[299   0]\n",
      " [  0 308]]\n",
      "\n"
     ]
    }
   ],
   "source": [
    "dt = DecisionTreeClassifier()\n",
    "dt.fit(x_train,y_train)\n",
    "dt_pred = dt.predict(x_train)\n",
    "dt_clf_report = pd.DataFrame(classification_report(y_train,dt_pred,output_dict=True))\n",
    "print(\"\\n=======================Train Result===========================\")\n",
    "print(f\"Accuracy score:{accuracy_score(y_train,dt_pred)*100:.2f}%\")\n",
    "print(\"_______________________________________________________________\")\n",
    "print(f\"CLASSIFICATION REPORT:\\n{dt_clf_report}\")\n",
    "print(\"________________________________________________________________\")\n",
    "print(f\" Confusion Matrix:\\n{confusion_matrix(y_train,dt_pred)}\\n\")\n",
    "      "
   ]
  },
  {
   "cell_type": "code",
   "execution_count": 227,
   "metadata": {},
   "outputs": [
    {
     "name": "stdout",
     "output_type": "stream",
     "text": [
      "\n",
      "=======================Test Result of dt_clf===========================\n",
      "Accuracy score:80.30%\n",
      "_______________________________________________________________\n",
      "CLASSIFICATION REPORT:\n",
      "                    0          1  accuracy   macro avg  weighted avg\n",
      "precision    0.823529   0.782178  0.802956    0.802854      0.803770\n",
      "recall       0.792453   0.814433  0.802956    0.803443      0.802956\n",
      "f1-score     0.807692   0.797980  0.802956    0.802836      0.803051\n",
      "support    106.000000  97.000000  0.802956  203.000000    203.000000\n",
      "________________________________________________________________\n",
      " Confusion Matrix:\n",
      "[[84 22]\n",
      " [18 79]]\n",
      "\n"
     ]
    }
   ],
   "source": [
    "dt_pred=dt.predict(x_test)\n",
    "dt_clf_report = pd.DataFrame(classification_report(y_test,dt_pred,output_dict=True))\n",
    "print(\"\\n=======================Test Result of dt_clf===========================\")\n",
    "print(f\"Accuracy score:{accuracy_score(y_test,dt_pred)*100:.2f}%\")\n",
    "print(\"_______________________________________________________________\")\n",
    "print(f\"CLASSIFICATION REPORT:\\n{dt_clf_report}\")\n",
    "print(\"________________________________________________________________\")\n",
    "print(f\" Confusion Matrix:\\n{confusion_matrix(y_test,dt_pred)}\\n\")      \n",
    "      "
   ]
  },
  {
   "cell_type": "code",
   "execution_count": 228,
   "metadata": {},
   "outputs": [
    {
     "data": {
      "image/png": "[encoded data removed]",
      "text/plain": [
       "<Figure size 504x504 with 2 Axes>"
      ]
     },
     "metadata": {
      "needs_background": "light"
     },
     "output_type": "display_data"
    }
   ],
   "source": [
    "cm = confusion_matrix(y_test,dt_pred)\n",
    "\n",
    "x_axis_labels=['NO Loan','YES Loan']\n",
    "y_axis_labels=['NO Loan','YES Loan']\n",
    "\n",
    "ax=plt.subplots(figsize=(7,7))\n",
    "sns.heatmap(cm,annot=True,linewidths=0.1,fmt='.2f',cmap='Reds',xticklabels=x_axis_labels,yticklabels=y_axis_labels)\n",
    "plt.xlabel('PREDICTED LABEL')\n",
    "plt.ylabel('TRUE LABEL')\n",
    "plt.title('Confusion Matrix For Decision Tree Classifier')\n",
    "\n",
    "plt.show()"
   ]
  },
  {
   "cell_type": "code",
   "execution_count": 229,
   "metadata": {},
   "outputs": [
    {
     "data": {
      "text/plain": [
       "0.8034429099397005"
      ]
     },
     "execution_count": 229,
     "metadata": {},
     "output_type": "execute_result"
    }
   ],
   "source": [
    "#ROC_AUC Score of Decision Tree Classifier:\n",
    "roc_auc_score(y_test,dt.predict(x_test))"
   ]
  },
  {
   "cell_type": "markdown",
   "metadata": {},
   "source": [
    "#### 3. Random Forest Classifier :"
   ]
  },
  {
   "cell_type": "code",
   "execution_count": 264,
   "metadata": {},
   "outputs": [
    {
     "name": "stdout",
     "output_type": "stream",
     "text": [
      "\n",
      "=======================Train Result===========================\n",
      "Accuracy score:100.00%\n",
      "_______________________________________________________________\n",
      "CLASSIFICATION REPORT:\n",
      "               0      1  accuracy  macro avg  weighted avg\n",
      "precision    1.0    1.0       1.0        1.0           1.0\n",
      "recall       1.0    1.0       1.0        1.0           1.0\n",
      "f1-score     1.0    1.0       1.0        1.0           1.0\n",
      "support    299.0  308.0       1.0      607.0         607.0\n",
      "________________________________________________________________\n",
      " Confusion Matrix:\n",
      "[[299   0]\n",
      " [  0 308]]\n",
      "\n"
     ]
    }
   ],
   "source": [
    "rf = RandomForestClassifier()\n",
    "rf.fit(x_train,y_train)\n",
    "rf_pred = rf.predict(x_train)\n",
    "rf_clf_report = pd.DataFrame(classification_report(y_train,rf_pred,output_dict=True))\n",
    "print(\"\\n=======================Train Result===========================\")\n",
    "print(f\"Accuracy score:{accuracy_score(y_train,rf_pred)*100:.2f}%\")\n",
    "print(\"_______________________________________________________________\")\n",
    "print(f\"CLASSIFICATION REPORT:\\n{rf_clf_report}\")\n",
    "print(\"________________________________________________________________\")\n",
    "print(f\" Confusion Matrix:\\n{confusion_matrix(y_train,rf_pred)}\\n\")"
   ]
  },
  {
   "cell_type": "code",
   "execution_count": 265,
   "metadata": {},
   "outputs": [
    {
     "name": "stdout",
     "output_type": "stream",
     "text": [
      "\n",
      "=======================Test Result of RF_clf===========================\n",
      "Accuracy score:85.71%\n",
      "_______________________________________________________________\n",
      "CLASSIFICATION REPORT:\n",
      "                    0          1  accuracy   macro avg  weighted avg\n",
      "precision    0.932584   0.798246  0.857143    0.865415      0.868393\n",
      "recall       0.783019   0.938144  0.857143    0.860582      0.857143\n",
      "f1-score     0.851282   0.862559  0.857143    0.856921      0.856671\n",
      "support    106.000000  97.000000  0.857143  203.000000    203.000000\n",
      "________________________________________________________________\n",
      " Confusion Matrix:\n",
      "[[83 23]\n",
      " [ 6 91]]\n",
      "\n"
     ]
    }
   ],
   "source": [
    "rf_pred=rf.predict(x_test)\n",
    "rf_clf_report = pd.DataFrame(classification_report(y_test,rf_pred,output_dict=True))\n",
    "print(\"\\n=======================Test Result of RF_clf===========================\")\n",
    "print(f\"Accuracy score:{accuracy_score(y_test,rf_pred)*100:.2f}%\")\n",
    "print(\"_______________________________________________________________\")\n",
    "print(f\"CLASSIFICATION REPORT:\\n{rf_clf_report}\")\n",
    "print(\"________________________________________________________________\")\n",
    "print(f\" Confusion Matrix:\\n{confusion_matrix(y_test,rf_pred)}\\n\")    "
   ]
  },
  {
   "cell_type": "code",
   "execution_count": 266,
   "metadata": {},
   "outputs": [
    {
     "data": {
      "text/plain": [
       "Text(0.5, 1.0, 'Confusion Matrix For Random Forest Classifier')"
      ]
     },
     "execution_count": 266,
     "metadata": {},
     "output_type": "execute_result"
    },
    {
     "data": {
      "image/png": "[encoded data removed]",
      "text/plain": [
       "<Figure size 504x504 with 2 Axes>"
      ]
     },
     "metadata": {
      "needs_background": "light"
     },
     "output_type": "display_data"
    }
   ],
   "source": [
    "cm = confusion_matrix(y_test,rf_pred)\n",
    "\n",
    "x_axis_labels=['NO Loan','YES Loan']\n",
    "y_axis_labels=['NO Loan','YES Loan']\n",
    "\n",
    "ax=plt.subplots(figsize=(7,7))\n",
    "sns.heatmap(cm,annot=True,linewidths=0.1,fmt='.2f',cmap='Reds',xticklabels=x_axis_labels,yticklabels=y_axis_labels)\n",
    "plt.xlabel('PREDICTED LABEL')\n",
    "plt.ylabel('TRUE LABEL')\n",
    "plt.title('Confusion Matrix For Random Forest Classifier')"
   ]
  },
  {
   "cell_type": "code",
   "execution_count": 267,
   "metadata": {},
   "outputs": [
    {
     "data": {
      "text/plain": [
       "0.8605815989107176"
      ]
     },
     "execution_count": 267,
     "metadata": {},
     "output_type": "execute_result"
    }
   ],
   "source": [
    "#ROC_AOC Score of Random Forest Classifier:\n",
    "\n",
    "roc_auc_score(y_test,rf.predict(x_test))"
   ]
  },
  {
   "cell_type": "markdown",
   "metadata": {},
   "source": [
    "#### 4. K-Neighbors Classifier :"
   ]
  },
  {
   "cell_type": "code",
   "execution_count": 234,
   "metadata": {},
   "outputs": [
    {
     "name": "stdout",
     "output_type": "stream",
     "text": [
      "\n",
      "=======================Train Result===========================\n",
      "Accuracy score:86.33%\n",
      "_______________________________________________________________\n",
      "CLASSIFICATION REPORT:\n",
      "                    0           1  accuracy   macro avg  weighted avg\n",
      "precision    0.839623    0.889273  0.863262    0.864448      0.864816\n",
      "recall       0.892977    0.834416  0.863262    0.863696      0.863262\n",
      "f1-score     0.865478    0.860972  0.863262    0.863225      0.863191\n",
      "support    299.000000  308.000000  0.863262  607.000000    607.000000\n",
      "________________________________________________________________\n",
      " Confusion Matrix:\n",
      "[[267  32]\n",
      " [ 51 257]]\n",
      "\n"
     ]
    }
   ],
   "source": [
    "kn = KNeighborsClassifier()\n",
    "kn.fit(x_train,y_train)\n",
    "kn_pred = kn.predict(x_train)\n",
    "kn_clf_report = pd.DataFrame(classification_report(y_train,kn_pred,output_dict=True))\n",
    "print(\"\\n=======================Train Result===========================\")\n",
    "print(f\"Accuracy score:{accuracy_score(y_train,kn_pred)*100:.2f}%\")\n",
    "print(\"_______________________________________________________________\")\n",
    "print(f\"CLASSIFICATION REPORT:\\n{kn_clf_report}\")\n",
    "print(\"________________________________________________________________\")\n",
    "print(f\" Confusion Matrix:\\n{confusion_matrix(y_train,kn_pred)}\\n\")"
   ]
  },
  {
   "cell_type": "code",
   "execution_count": 235,
   "metadata": {},
   "outputs": [
    {
     "name": "stdout",
     "output_type": "stream",
     "text": [
      "\n",
      "=======================Test Result of KNN_clf===========================\n",
      "Accuracy score:72.91%\n",
      "_______________________________________________________________\n",
      "CLASSIFICATION REPORT:\n",
      "                    0          1  accuracy   macro avg  weighted avg\n",
      "precision    0.733945   0.723404  0.729064    0.728675      0.728908\n",
      "recall       0.754717   0.701031  0.729064    0.727874      0.729064\n",
      "f1-score     0.744186   0.712042  0.729064    0.728114      0.728827\n",
      "support    106.000000  97.000000  0.729064  203.000000    203.000000\n",
      "________________________________________________________________\n",
      " Confusion Matrix:\n",
      "[[80 26]\n",
      " [29 68]]\n",
      "\n"
     ]
    }
   ],
   "source": [
    "kn_pred=kn.predict(x_test)\n",
    "kn_clf_report = pd.DataFrame(classification_report(y_test,kn_pred,output_dict=True))\n",
    "print(\"\\n=======================Test Result of KNN_clf===========================\")\n",
    "print(f\"Accuracy score:{accuracy_score(y_test,kn_pred)*100:.2f}%\")\n",
    "print(\"_______________________________________________________________\")\n",
    "print(f\"CLASSIFICATION REPORT:\\n{kn_clf_report}\")\n",
    "print(\"________________________________________________________________\")\n",
    "print(f\" Confusion Matrix:\\n{confusion_matrix(y_test,kn_pred)}\\n\")      \n",
    "      "
   ]
  },
  {
   "cell_type": "code",
   "execution_count": 236,
   "metadata": {},
   "outputs": [
    {
     "data": {
      "text/plain": [
       "Text(0.5, 1.0, 'Confusion Matrix For K-Nearest Neighbor Classifier')"
      ]
     },
     "execution_count": 236,
     "metadata": {},
     "output_type": "execute_result"
    },
    {
     "data": {
      "image/png": "[encoded data removed]",
      "text/plain": [
       "<Figure size 504x504 with 2 Axes>"
      ]
     },
     "metadata": {
      "needs_background": "light"
     },
     "output_type": "display_data"
    }
   ],
   "source": [
    "cm = confusion_matrix(y_test,kn_pred)\n",
    "\n",
    "x_axis_labels=['NO Loan','YES Loan']\n",
    "y_axis_labels=['NO Loan','YES Loan']\n",
    "\n",
    "ax=plt.subplots(figsize=(7,7))\n",
    "sns.heatmap(cm,annot=True,linewidths=0.1,fmt='.2f',cmap='Reds',xticklabels=x_axis_labels,yticklabels=y_axis_labels)\n",
    "plt.xlabel('PREDICTED LABEL')\n",
    "plt.ylabel('TRUE LABEL')\n",
    "plt.title('Confusion Matrix For K-Nearest Neighbor Classifier')"
   ]
  },
  {
   "cell_type": "code",
   "execution_count": 237,
   "metadata": {},
   "outputs": [
    {
     "data": {
      "text/plain": [
       "0.7278739544835635"
      ]
     },
     "execution_count": 237,
     "metadata": {},
     "output_type": "execute_result"
    }
   ],
   "source": [
    "#ROC_AUC Score of K-Nearest Kneibors Classifier:\n",
    "\n",
    "roc_auc_score(y_test,kn.predict(x_test))"
   ]
  },
  {
   "cell_type": "markdown",
   "metadata": {},
   "source": [
    "#### 5. Gradient Boosting Classifier:"
   ]
  },
  {
   "cell_type": "code",
   "execution_count": 238,
   "metadata": {},
   "outputs": [
    {
     "name": "stdout",
     "output_type": "stream",
     "text": [
      "\n",
      "=======================Train Result===========================\n",
      "Accuracy score:90.28%\n",
      "_______________________________________________________________\n",
      "CLASSIFICATION REPORT:\n",
      "                    0           1  accuracy   macro avg  weighted avg\n",
      "precision    0.976190    0.850704  0.902801    0.913447      0.912517\n",
      "recall       0.822742    0.980519  0.902801    0.901631      0.902801\n",
      "f1-score     0.892922    0.911011  0.902801    0.901966      0.902100\n",
      "support    299.000000  308.000000  0.902801  607.000000    607.000000\n",
      "________________________________________________________________\n",
      " Confusion Matrix:\n",
      "[[246  53]\n",
      " [  6 302]]\n",
      "\n"
     ]
    }
   ],
   "source": [
    "gbdt_clf = GradientBoostingClassifier()\n",
    "gbdt_clf.fit(x_train,y_train)\n",
    "pred=gbdt_clf.predict(x_train)\n",
    "gbdt_clf_report = pd.DataFrame(classification_report(y_train,pred,output_dict=True))\n",
    "print(\"\\n=======================Train Result===========================\")\n",
    "print(f\"Accuracy score:{accuracy_score(y_train,pred)*100:.2f}%\")\n",
    "print(\"_______________________________________________________________\")\n",
    "print(f\"CLASSIFICATION REPORT:\\n{gbdt_clf_report}\")\n",
    "print(\"________________________________________________________________\")\n",
    "print(f\" Confusion Matrix:\\n{confusion_matrix(y_train,pred)}\\n\")"
   ]
  },
  {
   "cell_type": "code",
   "execution_count": 239,
   "metadata": {},
   "outputs": [
    {
     "name": "stdout",
     "output_type": "stream",
     "text": [
      "\n",
      "=======================Test Result===========================\n",
      "Accuracy score:83.74%\n",
      "_______________________________________________________________\n",
      "CLASSIFICATION REPORT:\n",
      "                    0          1  accuracy   macro avg  weighted avg\n",
      "precision    0.939759   0.766667  0.837438    0.853213      0.857050\n",
      "recall       0.735849   0.948454  0.837438    0.842151      0.837438\n",
      "f1-score     0.825397   0.847926  0.837438    0.836662      0.836162\n",
      "support    106.000000  97.000000  0.837438  203.000000    203.000000\n",
      "________________________________________________________________\n",
      " Confusion Matrix:\n",
      "[[78 28]\n",
      " [ 5 92]]\n",
      "\n"
     ]
    }
   ],
   "source": [
    "pred=gbdt_clf.predict(x_test)\n",
    "clf_report = pd.DataFrame(classification_report(y_test,pred,output_dict=True))\n",
    "print(\"\\n=======================Test Result===========================\")\n",
    "print(f\"Accuracy score:{accuracy_score(y_test,pred)*100:.2f}%\")\n",
    "print(\"_______________________________________________________________\")\n",
    "print(f\"CLASSIFICATION REPORT:\\n{clf_report}\")\n",
    "print(\"________________________________________________________________\")\n",
    "print(f\" Confusion Matrix:\\n{confusion_matrix(y_test,pred)}\\n\") "
   ]
  },
  {
   "cell_type": "code",
   "execution_count": 240,
   "metadata": {},
   "outputs": [
    {
     "data": {
      "text/plain": [
       "Text(0.5, 1.0, 'Confusion Matrix Of Gradient Boosting Classifier')"
      ]
     },
     "execution_count": 240,
     "metadata": {},
     "output_type": "execute_result"
    },
    {
     "data": {
      "image/png": "[encoded data removed]",
      "text/plain": [
       "<Figure size 504x504 with 2 Axes>"
      ]
     },
     "metadata": {
      "needs_background": "light"
     },
     "output_type": "display_data"
    }
   ],
   "source": [
    "cm = confusion_matrix(y_test,pred)\n",
    "\n",
    "x_axis_labels=['NO Loan','YES Loan']\n",
    "y_axis_labels=['NO Loan','YES Loan']\n",
    "\n",
    "ax=plt.subplots(figsize=(7,7))\n",
    "sns.heatmap(cm,annot=True,linewidths=0.1,fmt='.2f',cmap='Reds',xticklabels=x_axis_labels,yticklabels=y_axis_labels)\n",
    "plt.xlabel('PREDICTED LABEL')\n",
    "plt.ylabel('TRUE LABEL')\n",
    "plt.title('Confusion Matrix Of Gradient Boosting Classifier')"
   ]
  },
  {
   "cell_type": "code",
   "execution_count": 241,
   "metadata": {},
   "outputs": [
    {
     "data": {
      "text/plain": [
       "0.8421513324255981"
      ]
     },
     "execution_count": 241,
     "metadata": {},
     "output_type": "execute_result"
    }
   ],
   "source": [
    "#ROC_AUC Score of Gradient Boosting Classifier:\n",
    "roc_auc_score(y_test,gbdt_clf.predict(x_test))"
   ]
  },
  {
   "cell_type": "markdown",
   "metadata": {},
   "source": [
    "#### 6.  Support Vector Classifier:"
   ]
  },
  {
   "cell_type": "code",
   "execution_count": 242,
   "metadata": {},
   "outputs": [
    {
     "name": "stdout",
     "output_type": "stream",
     "text": [
      "\n",
      "=======================Train Result===========================\n",
      "Accuracy score:79.90%\n",
      "_______________________________________________________________\n",
      "CLASSIFICATION REPORT:\n",
      "                    0           1  accuracy   macro avg  weighted avg\n",
      "precision    0.919431    0.734848  0.799012    0.827140      0.825771\n",
      "recall       0.648829    0.944805  0.799012    0.796817      0.799012\n",
      "f1-score     0.760784    0.826705  0.799012    0.793744      0.794233\n",
      "support    299.000000  308.000000  0.799012  607.000000    607.000000\n",
      "________________________________________________________________\n",
      " Confusion Matrix:\n",
      "[[194 105]\n",
      " [ 17 291]]\n",
      "\n"
     ]
    }
   ],
   "source": [
    "svc = SVC()\n",
    "svc.fit(x_train,y_train)\n",
    "svc_pred = svc.predict(x_train)\n",
    "svc_clf_report = pd.DataFrame(classification_report(y_train,svc_pred,output_dict=True))\n",
    "print(\"\\n=======================Train Result===========================\")\n",
    "print(f\"Accuracy score:{accuracy_score(y_train,svc_pred)*100:.2f}%\")\n",
    "print(\"_______________________________________________________________\")\n",
    "print(f\"CLASSIFICATION REPORT:\\n{svc_clf_report}\")\n",
    "print(\"________________________________________________________________\")\n",
    "print(f\" Confusion Matrix:\\n{confusion_matrix(y_train,svc_pred)}\\n\")"
   ]
  },
  {
   "cell_type": "code",
   "execution_count": 243,
   "metadata": {},
   "outputs": [
    {
     "name": "stdout",
     "output_type": "stream",
     "text": [
      "\n",
      "=======================Test Result of SVC===========================\n",
      "Accuracy score:73.89%\n",
      "_______________________________________________________________\n",
      "CLASSIFICATION REPORT:\n",
      "                    0          1  accuracy   macro avg  weighted avg\n",
      "precision    0.853333   0.671875  0.738916    0.762604      0.766627\n",
      "recall       0.603774   0.886598  0.738916    0.745186      0.738916\n",
      "f1-score     0.707182   0.764444  0.738916    0.735813      0.734544\n",
      "support    106.000000  97.000000  0.738916  203.000000    203.000000\n",
      "________________________________________________________________\n",
      " Confusion Matrix:\n",
      "[[64 42]\n",
      " [11 86]]\n",
      "\n"
     ]
    }
   ],
   "source": [
    "svc_pred=svc.predict(x_test)\n",
    "svc_report = pd.DataFrame(classification_report(y_test,svc_pred,output_dict=True))\n",
    "print(\"\\n=======================Test Result of SVC===========================\")\n",
    "print(f\"Accuracy score:{accuracy_score(y_test,svc_pred)*100:.2f}%\")\n",
    "print(\"_______________________________________________________________\")\n",
    "print(f\"CLASSIFICATION REPORT:\\n{svc_report}\")\n",
    "print(\"________________________________________________________________\")\n",
    "print(f\" Confusion Matrix:\\n{confusion_matrix(y_test,svc_pred)}\\n\")      \n",
    "      "
   ]
  },
  {
   "cell_type": "code",
   "execution_count": 244,
   "metadata": {},
   "outputs": [
    {
     "data": {
      "text/plain": [
       "Text(0.5, 1.0, 'Confusion Matrix Of SVC')"
      ]
     },
     "execution_count": 244,
     "metadata": {},
     "output_type": "execute_result"
    },
    {
     "data": {
      "image/png": "[encoded data removed]",
      "text/plain": [
       "<Figure size 504x504 with 2 Axes>"
      ]
     },
     "metadata": {
      "needs_background": "light"
     },
     "output_type": "display_data"
    }
   ],
   "source": [
    "cm = confusion_matrix(y_test,svc_pred)\n",
    "\n",
    "x_axis_labels=['NO Loan','YES Loan']\n",
    "y_axis_labels=['NO Loan','YES Loan']\n",
    "\n",
    "ax=plt.subplots(figsize=(7,7))\n",
    "sns.heatmap(cm,annot=True,linewidths=0.1,fmt='.2f',cmap='Reds',xticklabels=x_axis_labels,yticklabels=y_axis_labels)\n",
    "plt.xlabel('PREDICTED LABEL')\n",
    "plt.ylabel('TRUE LABEL')\n",
    "plt.title('Confusion Matrix Of SVC')"
   ]
  },
  {
   "cell_type": "code",
   "execution_count": 245,
   "metadata": {},
   "outputs": [
    {
     "data": {
      "text/plain": [
       "0.745185761524995"
      ]
     },
     "execution_count": 245,
     "metadata": {},
     "output_type": "execute_result"
    }
   ],
   "source": [
    "#ROC_AUC Score of SVC:\n",
    "roc_auc_score(y_test,svc.predict(x_test))"
   ]
  },
  {
   "cell_type": "code",
   "execution_count": 246,
   "metadata": {},
   "outputs": [
    {
     "data": {
      "image/png": "[encoded data removed]",
      "text/plain": [
       "<Figure size 432x288 with 1 Axes>"
      ]
     },
     "metadata": {
      "needs_background": "light"
     },
     "output_type": "display_data"
    }
   ],
   "source": [
    "# Let's check ROC_AUC curve for fitted models:\n",
    "\n",
    "disp = plot_roc_curve(lr,x_test,y_test)\n",
    "plot_roc_curve(dt,x_test,y_test,ax=disp.ax_)\n",
    "plot_roc_curve(rf,x_test,y_test,ax=disp.ax_)\n",
    "plot_roc_curve(kn,x_test,y_test,ax=disp.ax_)\n",
    "plot_roc_curve(svc,x_test,y_test,ax=disp.ax_)\n",
    "plot_roc_curve(gbdt_clf,x_test,y_test,ax=disp.ax_)\n",
    "plt.legend(prop={'size':11},loc='lower right')\n",
    "plt.show()"
   ]
  },
  {
   "cell_type": "markdown",
   "metadata": {},
   "source": [
    "#### Observation:\n",
    "\n",
    "We have seen that Random Forest Classifier has given the best accuracy of 85.71% regarding Loan status prediction. now let's check the cross validation scores of the models."
   ]
  },
  {
   "cell_type": "markdown",
   "metadata": {},
   "source": [
    "##### Cross validation :\n",
    "\n",
    " Cross validation is widely used technique to evaluate the performance of Machine Learning Models. Cross Validation divides the data into parts, where one set is used for traning and other is used for testing purpose. And by applying CV, we can understand if our model is overfitting on training data or not.\n"
   ]
  },
  {
   "cell_type": "code",
   "execution_count": 253,
   "metadata": {},
   "outputs": [
    {
     "name": "stdout",
     "output_type": "stream",
     "text": [
      " CV Score of LR:70.74%\n"
     ]
    }
   ],
   "source": [
    "#Checking Cross Validation score for Logistic Regression:\n",
    "print(f\" CV Score of LR:{cross_val_score(lr,x,y,cv=5).mean()*100:.2f}%\")"
   ]
  },
  {
   "cell_type": "code",
   "execution_count": 254,
   "metadata": {},
   "outputs": [
    {
     "name": "stdout",
     "output_type": "stream",
     "text": [
      "CV Score of DT:78.27%\n"
     ]
    }
   ],
   "source": [
    "#Checking Cross Validation score of Decision Tree Classifier:\n",
    "print(f\"CV Score of DT:{cross_val_score(dt,x,y,cv=5).mean()*100:.2f}%\")"
   ]
  },
  {
   "cell_type": "code",
   "execution_count": 255,
   "metadata": {},
   "outputs": [
    {
     "name": "stdout",
     "output_type": "stream",
     "text": [
      "CV Score of RF:83.46%\n"
     ]
    }
   ],
   "source": [
    "#Checking Cross Validation\n",
    "print(f\"CV Score of RF:{cross_val_score(rf,x,y,cv=5).mean()*100:.2f}%\")"
   ]
  },
  {
   "cell_type": "code",
   "execution_count": 250,
   "metadata": {},
   "outputs": [
    {
     "name": "stdout",
     "output_type": "stream",
     "text": [
      "CV Score of KNN:76.17%\n"
     ]
    }
   ],
   "source": [
    "# Checking Cross Validation Score of KNN:\n",
    "print(f\"CV Score of KNN:{cross_val_score(kn,x,y,cv=5).mean()*100:.2f}%\")"
   ]
  },
  {
   "cell_type": "code",
   "execution_count": 251,
   "metadata": {},
   "outputs": [
    {
     "name": "stdout",
     "output_type": "stream",
     "text": [
      "CV Score of SVC:72.59%\n"
     ]
    }
   ],
   "source": [
    "#Checking Cross Validation Score of SVC:\n",
    "print(f\"CV Score of SVC:{cross_val_score(svc,x,y,cv=5).mean()*100:.2f}%\")"
   ]
  },
  {
   "cell_type": "code",
   "execution_count": 252,
   "metadata": {},
   "outputs": [
    {
     "name": "stdout",
     "output_type": "stream",
     "text": [
      "CV Score of Gradient Boosting Classifier:80.25%\n"
     ]
    }
   ],
   "source": [
    "#Checking Cross Validation Score of SVC:\n",
    "print(f\"CV Score of Gradient Boosting Classifier:{cross_val_score(gbdt_clf,x,y,cv=5).mean()*100:.2f}%\")"
   ]
  },
  {
   "cell_type": "markdown",
   "metadata": {},
   "source": [
    "Now let's check the difference between Acuuracy Score and Cross Validation Score to select the best model from the 6 models:\n",
    "\n",
    "- Diffrence betwwwn Accuracy score and Cross Validation Score of 6 different models :\n",
    "- LR = 71.43-70.74 = 0.69 \n",
    "- DT = 80.30-78.40 = 1.90 \n",
    "- Rf = 85.22-83.46 = 1.76 \n",
    "- KNN = 72.91-76.17 = -3.26 \n",
    "- SVC = 73.89-72.59 = 1.30\n",
    "- Gbdt_clf = 83.74-80.25 = 3.49\n",
    "\n",
    "So, as the difference of Accuracy Score and CV of Random Forest Classifier is less and Accuracy score is highest. Let's do Hyperparameter Tuning of RFC.\n"
   ]
  },
  {
   "cell_type": "markdown",
   "metadata": {},
   "source": [
    "##### Hyperparameter Tuning:\n",
    "\n",
    "Now we will use Grid Search Technique to tune the hyperparameter of Random Forest Classifier model. After getting the best parameters we can put those into the model to obtain best Accuracy."
   ]
  },
  {
   "cell_type": "code",
   "execution_count": 259,
   "metadata": {},
   "outputs": [
    {
     "name": "stdout",
     "output_type": "stream",
     "text": [
      "best_params=>  {'criterion': 'entropy', 'max_depth': 15, 'max_features': 'log2', 'min_samples_leaf': 4, 'min_samples_split': 10, 'n_estimators': 20}\n",
      "con_mat=>  \n",
      " [[76 30]\n",
      " [ 2 95]]\n",
      "Accuracy of rf After Hyperparameter Tuning==>  84.23645320197043\n"
     ]
    }
   ],
   "source": [
    "rf = RandomForestClassifier()\n",
    "params={'n_estimators':[12,13,15,20],'max_features':['auto', 'sqrt','log2'],'criterion':['entropy','gini'],\n",
    "        'max_depth':[10,13,15,20],'min_samples_split':[10,12,11,13],'min_samples_leaf':[4,5,6,9]}\n",
    "\n",
    "grd= GridSearchCV(rf,param_grid=params)\n",
    "grd.fit(x_train,y_train)\n",
    "print('best_params=> ',grd.best_params_)\n",
    "\n",
    "rfc=grd.best_estimator_ #reinstantiating with best params\n",
    "rfc.fit(x_train,y_train)\n",
    "y_pred=rfc.predict(x_test)\n",
    "\n",
    "rfc_conf_mat = confusion_matrix(y_test,y_pred)\n",
    "print('con_mat=> ','\\n',rfc_conf_mat)\n",
    "print('Accuracy of rf After Hyperparameter Tuning==> ',accuracy_score(y_test,y_pred)*100)"
   ]
  },
  {
   "cell_type": "markdown",
   "metadata": {},
   "source": [
    "#### Observation:\n",
    "After Hyperparameter tuning the accuracy of Random Forest Classifier model is 84% and it's not increased after tuning. Hence, we are going to save the prior Random Forest Classifier model.\n",
    "\n",
    "But before that let's check the Classification report after paramter tuning."
   ]
  },
  {
   "cell_type": "code",
   "execution_count": 260,
   "metadata": {},
   "outputs": [
    {
     "name": "stdout",
     "output_type": "stream",
     "text": [
      "              precision    recall  f1-score   support\n",
      "\n",
      "           0       0.97      0.72      0.83       106\n",
      "           1       0.76      0.98      0.86        97\n",
      "\n",
      "    accuracy                           0.84       203\n",
      "   macro avg       0.87      0.85      0.84       203\n",
      "weighted avg       0.87      0.84      0.84       203\n",
      "\n"
     ]
    }
   ],
   "source": [
    "Report = classification_report(y_test,y_pred)\n",
    "print(Report)"
   ]
  },
  {
   "cell_type": "markdown",
   "metadata": {},
   "source": [
    "- The Classification report is showing less accuracy after Hyperparameter tuning. Hence we will save the prior RFC model as it's accuracy is best."
   ]
  },
  {
   "cell_type": "code",
   "execution_count": 261,
   "metadata": {},
   "outputs": [
    {
     "data": {
      "image/png": "[encoded data removed]",
      "text/plain": [
       "<Figure size 432x288 with 1 Axes>"
      ]
     },
     "metadata": {
      "needs_background": "light"
     },
     "output_type": "display_data"
    }
   ],
   "source": [
    "disp = plot_roc_curve(rfc,x_test,y_test)"
   ]
  },
  {
   "cell_type": "markdown",
   "metadata": {},
   "source": [
    "-  We can conclude, Random Forest Classifier is the best model as the density of area under curve is showing almost 91%.\n",
    "\n",
    "Let's save the best model."
   ]
  },
  {
   "cell_type": "code",
   "execution_count": 268,
   "metadata": {},
   "outputs": [
    {
     "name": "stdout",
     "output_type": "stream",
     "text": [
      "     predicted_values  orignal_values\n",
      "247                 1               1\n",
      "670                 0               0\n",
      "227                 1               1\n",
      "290                 0               0\n",
      "538                 0               1\n",
      "..                ...             ...\n",
      "265                 1               1\n",
      "309                 1               1\n",
      "90                  1               1\n",
      "334                 0               0\n",
      "181                 1               1\n",
      "\n",
      "[203 rows x 2 columns]\n"
     ]
    }
   ],
   "source": [
    "# model prediction using RF\n",
    "x_predict = list(rf.predict(x_test))\n",
    "rf_loan = {'predicted_values':x_predict,'orignal_values':y_test}\n",
    "print(pd.DataFrame(rf_loan))"
   ]
  },
  {
   "cell_type": "code",
   "execution_count": 269,
   "metadata": {},
   "outputs": [
    {
     "data": {
      "text/plain": [
       "['rf_loan_file.obj']"
      ]
     },
     "execution_count": 269,
     "metadata": {},
     "output_type": "execute_result"
    }
   ],
   "source": [
    "#import joblib\n",
    "import joblib\n",
    "\n",
    "joblib.dump(rfc,'rf_loan_file.obj')\n",
    "\n",
    "# SAVING THE MODEL"
   ]
  },
  {
   "cell_type": "code",
   "execution_count": 270,
   "metadata": {},
   "outputs": [
    {
     "data": {
      "text/plain": [
       "array([1, 0, 1, 0, 0, 0, 1, 0, 1, 1, 0, 1, 1, 0, 1, 1, 0, 1, 0, 0, 1, 1,\n",
       "       1, 1, 1, 1, 0, 1, 1, 1, 1, 1, 1, 0, 0, 0, 1, 1, 0, 0, 1, 1, 1, 1,\n",
       "       0, 0, 0, 0, 0, 0, 1, 1, 0, 0, 1, 0, 1, 1, 1, 1, 1, 0, 1, 0, 0, 1,\n",
       "       1, 1, 1, 1, 0, 1, 0, 0, 1, 0, 0, 1, 1, 1, 1, 1, 1, 0, 0, 0, 0, 1,\n",
       "       0, 0, 1, 0, 0, 0, 1, 1, 0, 1, 1, 1, 0, 0, 0, 1, 1, 1, 1, 0, 1, 0,\n",
       "       0, 0, 0, 0, 1, 1, 1, 1, 0, 1, 1, 0, 0, 0, 1, 0, 1, 1, 1, 1, 1, 1,\n",
       "       1, 1, 1, 0, 1, 1, 0, 1, 0, 0, 1, 1, 0, 1, 0, 0, 1, 1, 1, 1, 1, 1,\n",
       "       1, 1, 0, 0, 0, 1, 0, 1, 0, 1, 1, 1, 1, 0, 1, 0, 1, 1, 1, 1, 1, 0,\n",
       "       1, 1, 1, 1, 1, 0, 0, 0, 1, 0, 0, 1, 1, 1, 1, 1, 1, 1, 1, 1, 1, 1,\n",
       "       1, 1, 1, 0, 1])"
      ]
     },
     "execution_count": 270,
     "metadata": {},
     "output_type": "execute_result"
    }
   ],
   "source": [
    "rf_from_joblib=joblib.load('rf_loan_file.obj')\n",
    "rf_from_joblib.predict(x_test)\n",
    "\n",
    "#TESTING THE SAVED MODEL"
   ]
  },
  {
   "cell_type": "markdown",
   "metadata": {},
   "source": [
    "#### Conclusion:"
   ]
  },
  {
   "cell_type": "markdown",
   "metadata": {},
   "source": [
    "- The core business of banks is to give loan to eligible applicants and the main profit comes directly from the interest that the customer payback to the bank monthly or annually. But who is a eligible loan applicant it depends on so many factors. Like his Income, his dependents, properties that he owns and so on.\n",
    "- The provided dataset is containing various features to predict the loan status. For that we have analyzed the data carefully and have understood that good credit history is very much required to get a loan. Other than that people with semiurban properties get loan easily than urban and rural property holders.\n",
    "- On the basis of such analysis, we have made 6 models out of with Random Forest Classifier has given the best accuracy of 84% and we have saved it."
   ]
  },
  {
   "cell_type": "code",
   "execution_count": null,
   "metadata": {},
   "outputs": [],
   "source": []
  }
 ],
 "metadata": {
  "kernelspec": {
   "display_name": "Python 3",
   "language": "python",
   "name": "python3"
  },
  "language_info": {
   "codemirror_mode": {
    "name": "ipython",
    "version": 3
   },
   "file_extension": ".py",
   "mimetype": "text/x-python",
   "name": "python",
   "nbconvert_exporter": "python",
   "pygments_lexer": "ipython3",
   "version": "3.8.5"
  }
 },
 "nbformat": 4,
 "nbformat_minor": 4
}
